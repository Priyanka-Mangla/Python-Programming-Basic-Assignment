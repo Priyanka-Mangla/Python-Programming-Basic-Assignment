{
  "nbformat": 4,
  "nbformat_minor": 0,
  "metadata": {
    "colab": {
      "name": "Programming_Basic_Assignment 16.ipynb",
      "provenance": [],
      "collapsed_sections": []
    },
    "kernelspec": {
      "name": "python3",
      "display_name": "Python 3"
    },
    "language_info": {
      "name": "python"
    }
  },
  "cells": [
    {
      "cell_type": "markdown",
      "source": [
        "**Programming_Basic_Assignment 16**"
      ],
      "metadata": {
        "id": "-DCGSLb7k18l"
      }
    },
    {
      "cell_type": "markdown",
      "source": [
        "Question1. Write a function that stutters a word as if someone is struggling to read it. The first two letters are repeated twice with an ellipsis ... and space after each, and then the word is pronounced with a question mark ?.\n",
        "Examples\n",
        "stutter(\"incredible\") ➞ \"in... in... incredible?\"\n",
        "\n",
        "stutter(\"enthusiastic\") ➞ \"en... en... enthusiastic?\"\n",
        "\n",
        "stutter(\"outstanding\") ➞ \"ou... ou... outstanding?\"\n",
        "\n",
        "Hint :- Assume all input is in lower case and at least two characters long.\n",
        "\n",
        "\n",
        "\n",
        "\n"
      ],
      "metadata": {
        "id": "fSBNXyvDk5Rk"
      }
    },
    {
      "cell_type": "code",
      "source": [
        "def stutter(word):\n",
        "\treturn (2*(word[:2]+'... '))+word+'?'\n",
        "  \n",
        "print(stutter(\"incredible\"))\n",
        "print(stutter(\"enthusiastic\"))\n",
        "print(stutter(\"outstanding\"))"
      ],
      "metadata": {
        "colab": {
          "base_uri": "https://localhost:8080/"
        },
        "id": "2Ugs63_WU2eO",
        "outputId": "1e24e1a2-1a37-4d91-c3d9-3fd63086e696"
      },
      "execution_count": 2,
      "outputs": [
        {
          "output_type": "stream",
          "name": "stdout",
          "text": [
            "in... in... incredible?\n",
            "en... en... enthusiastic?\n",
            "ou... ou... outstanding?\n"
          ]
        }
      ]
    },
    {
      "cell_type": "code",
      "source": [
        "#another way\n",
        "def stutter(word:str):\n",
        "    print(f\"{word[:2]}... {word[:2]}... {word}?\")\n",
        "    \n",
        "stutter('incredible') \n",
        "stutter('enthusiastic') \n",
        "stutter('outstanding') "
      ],
      "metadata": {
        "colab": {
          "base_uri": "https://localhost:8080/"
        },
        "id": "rEsVfLrtWbgm",
        "outputId": "7b48acc4-d894-4e87-b9ed-6ca57661bcdc"
      },
      "execution_count": 3,
      "outputs": [
        {
          "output_type": "stream",
          "name": "stdout",
          "text": [
            "in... in... incredible?\n",
            "en... en... enthusiastic?\n",
            "ou... ou... outstanding?\n"
          ]
        }
      ]
    },
    {
      "cell_type": "markdown",
      "source": [
        "Question 2.Create a function that takes an angle in radians and returns the corresponding angle in degrees rounded to one decimal place.\n",
        "Examples\n",
        "radians_to_degrees(1) ➞ 57.3\n",
        "\n",
        "radians_to_degrees(20) ➞ 1145.9\n",
        "\n",
        "radians_to_degrees(50) ➞ 2864.8\n"
      ],
      "metadata": {
        "id": "rKvEObrWlitE"
      }
    },
    {
      "cell_type": "code",
      "source": [
        "import math\n",
        "def radians_to_degrees(a):\n",
        "  print(round((a * 180)/math.pi,1))\n",
        "\n",
        "radians_to_degrees(1)\n",
        "radians_to_degrees(20)\n",
        "radians_to_degrees(50) "
      ],
      "metadata": {
        "colab": {
          "base_uri": "https://localhost:8080/"
        },
        "id": "z0CzpWafWhM-",
        "outputId": "8873b96b-1231-4a53-eed2-3085fa1fc34c"
      },
      "execution_count": 6,
      "outputs": [
        {
          "output_type": "stream",
          "name": "stdout",
          "text": [
            "57.3\n",
            "1145.9\n",
            "2864.8\n"
          ]
        }
      ]
    },
    {
      "cell_type": "markdown",
      "source": [
        "\n",
        "Question 3. In this challenge, establish if a given integer num is a Curzon number. If 1 plus 2 elevated to num is exactly divisible by 1 plus 2 multiplied by num, then num is a Curzon number.\n",
        "Given a non-negative integer num, implement a function that returns True if num is a Curzon number, or False otherwise.\n",
        "Examples\n",
        "is_curzon(5) ➞ True\n",
        "#### 2 ** 5 + 1 = 33\n",
        "#### 2 * 5 + 1 = 11\n",
        "#### 33 is a multiple of 11\n",
        "\n",
        "is_curzon(10) ➞ False\n",
        "#### 2 ** 10 + 1 = 1025\n",
        "#### 2 * 10 + 1 = 21\n",
        "#### 1025 is not a multiple of 21\n",
        "\n",
        "is_curzon(14) ➞ True\n",
        "#### 2 ** 14 + 1 = 16385\n",
        "#### 2 * 14 + 1 = 29\n",
        "#### 16385 is a multiple of 29\n"
      ],
      "metadata": {
        "id": "Ejl29XNrll7c"
      }
    },
    {
      "cell_type": "code",
      "source": [
        "def is_curzon(n):\n",
        "  if (2**n + 1) % (2*n + 1) == 0:\n",
        "    return True\n",
        "  else:\n",
        "    return False\n",
        "\n",
        "print(is_curzon(5))\n",
        "print(is_curzon(10))\n",
        "print(is_curzon(14))"
      ],
      "metadata": {
        "colab": {
          "base_uri": "https://localhost:8080/"
        },
        "id": "sW8hi-TGZNzL",
        "outputId": "57c09b1e-0f7d-4647-950a-6fa301867936"
      },
      "execution_count": 8,
      "outputs": [
        {
          "output_type": "stream",
          "name": "stdout",
          "text": [
            "True\n",
            "False\n",
            "True\n"
          ]
        }
      ]
    },
    {
      "cell_type": "markdown",
      "source": [
        "Question 4.Given the side length x find the area of a hexagon.Examples: \n",
        "\n",
        "area_of_hexagon(1) ➞ 2.6\n",
        "\n",
        "area_of_hexagon(2) ➞ 10.4\n",
        "\n",
        "area_of_hexagon(3) ➞ 23.4\n"
      ],
      "metadata": {
        "id": "DZQwm74Jln44"
      }
    },
    {
      "cell_type": "markdown",
      "source": [
        "Area of hexagon = (3 √3(n)2 ) / 2"
      ],
      "metadata": {
        "id": "ZYtP39Nkq0F0"
      }
    },
    {
      "cell_type": "code",
      "source": [
        "import math\n",
        "def area_of_hexagon(x):\n",
        "  print(round((3*(math.sqrt(3))* (x**2))/2, 1))\n",
        "\n",
        "area_of_hexagon(1)\n",
        "area_of_hexagon(2)\n",
        "area_of_hexagon(3) "
      ],
      "metadata": {
        "colab": {
          "base_uri": "https://localhost:8080/"
        },
        "id": "tgDCGLaPhwKK",
        "outputId": "4595375a-ffa4-4413-fbe9-7410064c3cc5"
      },
      "execution_count": 11,
      "outputs": [
        {
          "output_type": "stream",
          "name": "stdout",
          "text": [
            "2.6\n",
            "10.4\n",
            "23.4\n"
          ]
        }
      ]
    },
    {
      "cell_type": "markdown",
      "source": [
        "\n",
        "Question 5. Create a function that returns a base-2 (binary) representation of a base-10 (decimal) string number. To convert is simple: ((2) means base-2 and (10) means base-10) 010101001(2) = 1 + 8 + 32 + 128.\n",
        "\n",
        "Going from right to left, the value of the most right bit is 1, now from that every bit to the left will be x2 the value, value of an 8 bit binary numbers are (256, 128, 64, 32, 16, 8, 4, 2, 1).\n",
        "Examples\n",
        "binary(1) ➞ \"1\"\n",
        "#### 1*1 = 1\n",
        "\n",
        "binary(5) ➞ \"101\"\n",
        "#### 1*1 + 1*4 = 5\n",
        "\n",
        "binary(10) ➞ \"1010\"\n",
        "#### 1*2 + 1*8 = 10"
      ],
      "metadata": {
        "id": "JVAUKFXZlpPb"
      }
    },
    {
      "cell_type": "code",
      "execution_count": 12,
      "metadata": {
        "id": "apnR2RKpkzLG",
        "colab": {
          "base_uri": "https://localhost:8080/"
        },
        "outputId": "e4014144-d256-4bd0-ca79-fde4d1f341b7"
      },
      "outputs": [
        {
          "output_type": "stream",
          "name": "stdout",
          "text": [
            "1\n",
            "101\n",
            "1010\n"
          ]
        }
      ],
      "source": [
        "def binary(n):\n",
        "  return \"{0:b}\".format(int(n))\n",
        "\n",
        "print(binary(1))\n",
        "print(binary(5))\n",
        "print(binary(10))"
      ]
    },
    {
      "cell_type": "code",
      "source": [
        ""
      ],
      "metadata": {
        "id": "0Nhl5CQrzP_s"
      },
      "execution_count": null,
      "outputs": []
    }
  ]
}