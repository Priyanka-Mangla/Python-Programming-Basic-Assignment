{
  "nbformat": 4,
  "nbformat_minor": 0,
  "metadata": {
    "colab": {
      "name": "Programming_Basic_Assingment 11.ipynb",
      "provenance": [],
      "collapsed_sections": []
    },
    "kernelspec": {
      "name": "python3",
      "display_name": "Python 3"
    },
    "language_info": {
      "name": "python"
    }
  },
  "cells": [
    {
      "cell_type": "markdown",
      "source": [
        "**Programming_Basic_Assingment 11**"
      ],
      "metadata": {
        "id": "fzw2gGLBYyeu"
      }
    },
    {
      "cell_type": "markdown",
      "source": [
        "1. Write a Python program to find words which are greater than given length k?\n",
        "\n"
      ],
      "metadata": {
        "id": "8F10wojR9D-R"
      }
    },
    {
      "cell_type": "code",
      "source": [
        "string1 = \"string contains ten words\"\n",
        "k = 4\n",
        "\n",
        "a = string1.split()\n",
        "b = []\n",
        "\n",
        "for i in a:\n",
        "  if len(i) > k:\n",
        "    b.append(i)\n",
        "  \n",
        "print(b)"
      ],
      "metadata": {
        "colab": {
          "base_uri": "https://localhost:8080/"
        },
        "id": "XocqFh0vS2Zj",
        "outputId": "b951599e-f65d-48aa-fd20-a7d371f6e7a4"
      },
      "execution_count": null,
      "outputs": [
        {
          "output_type": "stream",
          "name": "stdout",
          "text": [
            "['string', 'contains', 'words']\n"
          ]
        }
      ]
    },
    {
      "cell_type": "code",
      "source": [
        "# another way\n",
        "string1 = \"string contains ten words\"\n",
        "k = 4\n",
        "\n",
        "a = list(filter(lambda word: len(word) > k, string1.split()))\n",
        "print(a)"
      ],
      "metadata": {
        "id": "xE3cp-CeY4tg",
        "colab": {
          "base_uri": "https://localhost:8080/"
        },
        "outputId": "816a9577-7dc1-42ff-eb5f-c474ff8b3c04"
      },
      "execution_count": null,
      "outputs": [
        {
          "output_type": "stream",
          "name": "stdout",
          "text": [
            "['string', 'contains', 'words']\n"
          ]
        }
      ]
    },
    {
      "cell_type": "markdown",
      "source": [
        "2. Write a Python program for removing i-th character from a string?\n"
      ],
      "metadata": {
        "id": "0sVc2hqF9Lap"
      }
    },
    {
      "cell_type": "code",
      "source": [
        "str=\"Russia England China\"\n",
        "remove_char = ['a', 'i']\n",
        "\n",
        "new_str = \"\"\n",
        "\n",
        "for i in str:\n",
        "  if i not in remove_char:\n",
        "    new_str += i\n",
        "print(new_str)"
      ],
      "metadata": {
        "colab": {
          "base_uri": "https://localhost:8080/"
        },
        "id": "dvwHF75LZZuF",
        "outputId": "cb53b205-767f-4706-e92a-25cb8683e6c0"
      },
      "execution_count": null,
      "outputs": [
        {
          "output_type": "stream",
          "name": "stdout",
          "text": [
            "Russ Englnd Chn\n"
          ]
        }
      ]
    },
    {
      "cell_type": "code",
      "source": [
        "#another way\n",
        "\n",
        "str=\"Russia England China\"\n",
        "remove_char=['a','i','n'] \n",
        "\n",
        "new = filter(lambda i : i not in remove_char, str)\n",
        "new_str=\"\" \n",
        "for i in new: \n",
        "    new_str+=i \n",
        "print(new_str) "
      ],
      "metadata": {
        "colab": {
          "base_uri": "https://localhost:8080/"
        },
        "id": "_R4KxxaAZnMX",
        "outputId": "1599d51d-b0f1-40b5-89dd-6d29bb09c851"
      },
      "execution_count": null,
      "outputs": [
        {
          "output_type": "stream",
          "name": "stdout",
          "text": [
            "Russ Egld Ch\n"
          ]
        }
      ]
    },
    {
      "cell_type": "markdown",
      "source": [
        "3. Write a Python program to split and join a string?\n"
      ],
      "metadata": {
        "id": "x1aM1g2t9QI7"
      }
    },
    {
      "cell_type": "code",
      "source": [
        "str=\"Russia England China\"\n",
        "\n",
        "str.split()"
      ],
      "metadata": {
        "colab": {
          "base_uri": "https://localhost:8080/"
        },
        "id": "755P3AASXP7S",
        "outputId": "bf8f74ce-929a-4643-85de-a6bf54c8f4db"
      },
      "execution_count": null,
      "outputs": [
        {
          "output_type": "execute_result",
          "data": {
            "text/plain": [
              "['Russia', 'England', 'China']"
            ]
          },
          "metadata": {},
          "execution_count": 24
        }
      ]
    },
    {
      "cell_type": "code",
      "source": [
        "str=\"Russia England China\"\n",
        "\n",
        "\"*\".join(str)"
      ],
      "metadata": {
        "colab": {
          "base_uri": "https://localhost:8080/",
          "height": 35
        },
        "id": "v1PDb3RjXVWY",
        "outputId": "d2227f7f-02af-4e49-8596-bf5a3d283f83"
      },
      "execution_count": null,
      "outputs": [
        {
          "output_type": "execute_result",
          "data": {
            "application/vnd.google.colaboratory.intrinsic+json": {
              "type": "string"
            },
            "text/plain": [
              "'R*u*s*s*i*a* *E*n*g*l*a*n*d* *C*h*i*n*a'"
            ]
          },
          "metadata": {},
          "execution_count": 29
        }
      ]
    },
    {
      "cell_type": "code",
      "source": [
        "# another way... join list elements\n",
        "\n",
        "str=\"Russia England China\"\n",
        "\n",
        "l1 = list(str.split())\n",
        "l1\n",
        "\n",
        "\"*\".join(l1)"
      ],
      "metadata": {
        "colab": {
          "base_uri": "https://localhost:8080/",
          "height": 35
        },
        "id": "FYGFWD5JYEA7",
        "outputId": "c8616ffa-0409-4d27-bd48-273d9641afb5"
      },
      "execution_count": null,
      "outputs": [
        {
          "output_type": "execute_result",
          "data": {
            "application/vnd.google.colaboratory.intrinsic+json": {
              "type": "string"
            },
            "text/plain": [
              "'Russia*England*China'"
            ]
          },
          "metadata": {},
          "execution_count": 33
        }
      ]
    },
    {
      "cell_type": "markdown",
      "source": [
        "4. Write a Python to check if a given string is binary string or not?\n"
      ],
      "metadata": {
        "id": "pY5cmR5R9RwO"
      }
    },
    {
      "cell_type": "code",
      "source": [
        "s1 = \"01100001 01100010 01100011\"\n",
        "\n",
        "s2 = \"\"\n",
        "\n",
        "for i in s1:\n",
        "  if i == 0 or i ==1:\n",
        "    s2 += i\n",
        "print(s2)\n",
        "\n"
      ],
      "metadata": {
        "colab": {
          "base_uri": "https://localhost:8080/"
        },
        "id": "C7SEQWbPYv0V",
        "outputId": "e3bbd4e2-e4bd-4ea9-90aa-15db8c7e0175"
      },
      "execution_count": null,
      "outputs": [
        {
          "output_type": "stream",
          "name": "stdout",
          "text": [
            "\n"
          ]
        }
      ]
    },
    {
      "cell_type": "markdown",
      "source": [
        "5. Write a Python program to find uncommon words from two Strings?\n"
      ],
      "metadata": {
        "id": "Dl38URsW9TPk"
      }
    },
    {
      "cell_type": "code",
      "source": [
        "s1=\"Russia India  America China\"\n",
        "\n",
        "s2=\"Russia England China\"\n",
        "\n",
        "new = filter(lambda i : i not in s2.split(), s1.split())\n",
        "\n",
        "new_str=\" \" \n",
        "for i in new: \n",
        "    new_str+=i\n",
        "print(new_str) \n",
        "\n",
        "print(len(new_str))\n",
        "\n",
        "x  = new_str[:6]\n",
        "y = new_str[6:]\n",
        "\n",
        "print(x)\n",
        "print(y)\n",
        "\n",
        "z = \"% s % s\"%(x, y)\n",
        "\n",
        "z"
      ],
      "metadata": {
        "colab": {
          "base_uri": "https://localhost:8080/",
          "height": 105
        },
        "id": "--AkNj40OOgw",
        "outputId": "2ee9c078-6acb-460e-dfd6-4e0ed0f5fa0a"
      },
      "execution_count": null,
      "outputs": [
        {
          "output_type": "stream",
          "name": "stdout",
          "text": [
            " IndiaAmerica\n",
            "13\n",
            " India\n",
            "America\n"
          ]
        },
        {
          "output_type": "execute_result",
          "data": {
            "application/vnd.google.colaboratory.intrinsic+json": {
              "type": "string"
            },
            "text/plain": [
              "' India America'"
            ]
          },
          "metadata": {},
          "execution_count": 38
        }
      ]
    },
    {
      "cell_type": "code",
      "source": [
        ""
      ],
      "metadata": {
        "colab": {
          "base_uri": "https://localhost:8080/"
        },
        "id": "uYOskfTJPaPi",
        "outputId": "d488b9c2-ce5e-44f2-fbef-5add9fb6c3e1"
      },
      "execution_count": null,
      "outputs": [
        {
          "output_type": "execute_result",
          "data": {
            "text/plain": [
              "['Russia', 'England', 'China']"
            ]
          },
          "metadata": {},
          "execution_count": 6
        }
      ]
    },
    {
      "cell_type": "markdown",
      "source": [
        "6. Write a Python to find all duplicate characters in string?\n"
      ],
      "metadata": {
        "id": "MdPUoGYn9Uyk"
      }
    },
    {
      "cell_type": "code",
      "source": [
        "import collections\n",
        "\n",
        "string = \"Hello world\"\n",
        "frequencies = collections.Counter(string)\n",
        "\n",
        "duplicates = {}\n",
        "\n",
        "for key, value in frequencies.items():\n",
        "  if value > 1:\n",
        "    duplicates[key] = value\n",
        "\n",
        "print(duplicates) "
      ],
      "metadata": {
        "id": "10nWC6hROraQ",
        "colab": {
          "base_uri": "https://localhost:8080/"
        },
        "outputId": "da024d4c-f146-44f3-b5aa-f76163244d95"
      },
      "execution_count": null,
      "outputs": [
        {
          "output_type": "stream",
          "name": "stdout",
          "text": [
            "{'l': 3, 'o': 2}\n"
          ]
        }
      ]
    },
    {
      "cell_type": "markdown",
      "source": [
        "7. Write a Python Program to check if a string contains any special character?"
      ],
      "metadata": {
        "id": "FSGNtrlb9Wj9"
      }
    },
    {
      "cell_type": "code",
      "execution_count": null,
      "metadata": {
        "id": "CTC02Dr98yt7",
        "colab": {
          "base_uri": "https://localhost:8080/"
        },
        "outputId": "05a720fb-f75c-453a-8d4e-30ab952c8919"
      },
      "outputs": [
        {
          "output_type": "stream",
          "name": "stdout",
          "text": [
            "Enter the stringmy name is@ bittoo\n",
            "Entered String is  my name is@ bittoo\n",
            "string contains special chars\n"
          ]
        }
      ],
      "source": [
        "import re\n",
        "\n",
        "myStr =  input('Enter the string')\n",
        "\n",
        "regularExp = re.compile('[@_!#$%^&*()<>?/\\|}{~:]')\n",
        "\n",
        "print(\"Entered String is \", myStr)\n",
        "\n",
        "if(regularExp.search(myStr) == None):\n",
        "    print(\"string does not contain special chars\")\n",
        "else:\n",
        "    print(\"string contains special chars\")"
      ]
    }
  ]
}