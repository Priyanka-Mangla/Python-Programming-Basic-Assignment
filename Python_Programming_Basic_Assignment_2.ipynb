{
  "nbformat": 4,
  "nbformat_minor": 0,
  "metadata": {
    "colab": {
      "name": "Python Programming Basic Assignment 2.ipynb",
      "provenance": [],
      "collapsed_sections": []
    },
    "kernelspec": {
      "name": "python3",
      "display_name": "Python 3"
    },
    "language_info": {
      "name": "python"
    }
  },
  "cells": [
    {
      "cell_type": "markdown",
      "source": [
        "**Python Programming Basic Assignment 2**"
      ],
      "metadata": {
        "id": "yHloqOmcLWAE"
      }
    },
    {
      "cell_type": "markdown",
      "source": [
        "1. Write a Python program to convert kilometers to miles?\n"
      ],
      "metadata": {
        "id": "XTK3sp2_LY3z"
      }
    },
    {
      "cell_type": "code",
      "source": [
        "# Taking kilometers input \n",
        "kilometers = float(input(\"Enter value in kilometers: \"))\n",
        "\n",
        "# conversion factor\n",
        "conv_fac = 0.621371\n",
        "\n",
        "# calculate miles\n",
        "miles = kilometers * conv_fac\n",
        "\n",
        "print('%0.2f kilometers is equal to %0.2f miles' %(kilometers,miles))"
      ],
      "metadata": {
        "colab": {
          "base_uri": "https://localhost:8080/"
        },
        "id": "FdeAfD8lO4Va",
        "outputId": "08b19eb2-8cf8-47f3-a5f1-f4dcff6d6638"
      },
      "execution_count": 8,
      "outputs": [
        {
          "output_type": "stream",
          "name": "stdout",
          "text": [
            "Enter value in kilometers: 1\n",
            "1.00 kilometers is equal to 0.62 miles\n"
          ]
        }
      ]
    },
    {
      "cell_type": "markdown",
      "source": [
        "2. Write a Python program to convert Celsius to Fahrenheit?\n"
      ],
      "metadata": {
        "id": "4bDYN2wGOf5C"
      }
    },
    {
      "cell_type": "code",
      "source": [
        "# Taking Celsius input \n",
        "Celsius = float(input(\"Enter value in Celsius: \"))\n",
        "\n",
        "# calculate Fahrenheit\n",
        "Fahrenheit = ((9/5)*Celsius + 32)\n",
        "\n",
        "print('%0.2f Celsius is equal to %0.2f Fahrenheit' %(Celsius,Fahrenheit))"
      ],
      "metadata": {
        "colab": {
          "base_uri": "https://localhost:8080/"
        },
        "id": "E9agPxuB5yDd",
        "outputId": "e2604086-de69-4dcc-a0c9-3135c43a1da7"
      },
      "execution_count": 1,
      "outputs": [
        {
          "output_type": "stream",
          "name": "stdout",
          "text": [
            "Enter value in Celsius: 0\n",
            "0.00 Celsius is equal to 32.00 Fahrenheit\n"
          ]
        }
      ]
    },
    {
      "cell_type": "markdown",
      "source": [
        "3. Write a Python program to display calendar?\n"
      ],
      "metadata": {
        "id": "9M0urtPzOhUI"
      }
    },
    {
      "cell_type": "code",
      "source": [
        "# import module\n",
        "import calendar\n",
        " \n",
        "yy = 2022\n",
        "mm = 2\n",
        " \n",
        "# display the calendar\n",
        "print(calendar.month(yy, mm))"
      ],
      "metadata": {
        "colab": {
          "base_uri": "https://localhost:8080/"
        },
        "id": "7VuTU68W-a-K",
        "outputId": "9f44a658-c948-41b1-b3f2-9c580a7b4ff8"
      },
      "execution_count": 2,
      "outputs": [
        {
          "output_type": "stream",
          "name": "stdout",
          "text": [
            "   February 2022\n",
            "Mo Tu We Th Fr Sa Su\n",
            "    1  2  3  4  5  6\n",
            " 7  8  9 10 11 12 13\n",
            "14 15 16 17 18 19 20\n",
            "21 22 23 24 25 26 27\n",
            "28\n",
            "\n"
          ]
        }
      ]
    },
    {
      "cell_type": "markdown",
      "source": [
        "4. Write a Python program to solve quadratic equation?\n"
      ],
      "metadata": {
        "id": "y6HVNsL5Oh7R"
      }
    },
    {
      "cell_type": "code",
      "source": [
        "import math\n",
        "\n",
        "a = int(input(\"Please Enter a Value\"))\n",
        "b = int(input(\"Please Enter b Value\"))\n",
        "c = int(input(\"Please Enter c Value\"))\n",
        "\n",
        "d = (b * b) - (4 * a * c)\n",
        "\n",
        "if(d > 0):\n",
        "    root1 = (-b + math.sqrt(d) / (2 * a))\n",
        "    root2 = (-b - math.sqrt(d) / (2 * a))\n",
        "    print(\"Two Distinct Real Roots Exists: root1 = %.2f and root2 = %.2f\" %(root1, root2))\n",
        "\n",
        "elif(d == 0):\n",
        "    root1 = root2 = -b / (2 * a)\n",
        "    print(\"Two Equal and Real Roots Exists: root1 = %.2f and root2 = %.2f\" %(root1, root2))\n",
        "\n",
        "elif(d < 0):\n",
        "    root1 = root2 = -b / (2 * a)\n",
        "    imaginary = math.sqrt(-d) / (2 * a)\n",
        "    print(\"Two Distinct Complex Roots Exists: root1 = %.2f+%.2f and root2 = %.2f-%.2f\" %(root1, imaginary, root2, imaginary))"
      ],
      "metadata": {
        "colab": {
          "base_uri": "https://localhost:8080/"
        },
        "id": "T011pQScCkY-",
        "outputId": "127dbbf8-a30b-4696-defc-217bb254b2bf"
      },
      "execution_count": 6,
      "outputs": [
        {
          "output_type": "stream",
          "name": "stdout",
          "text": [
            "Please Enter a Value25\n",
            "Please Enter b Value30\n",
            "Please Enter c Value-15\n",
            "Two Distinct Real Roots Exists: root1 = -29.02 and root2 = -30.98\n"
          ]
        }
      ]
    },
    {
      "cell_type": "code",
      "source": [
        "#another way using cmath module\n",
        "\n",
        "# import complex math module\n",
        "import cmath\n",
        "  \n",
        "a = 1\n",
        "b = 4\n",
        "c = 2\n",
        "  \n",
        "# calculating  the discriminant\n",
        "dis = (b**2) - (4 * a*c)\n",
        "  \n",
        "# find two results\n",
        "Root1 = (-b-cmath.sqrt(dis))/(2 * a)\n",
        "Root2 = (-b + cmath.sqrt(dis))/(2 * a)\n",
        "  \n",
        "# printing the results\n",
        "print('The roots are')\n",
        "print(Root1)\n",
        "print(Root2)"
      ],
      "metadata": {
        "colab": {
          "base_uri": "https://localhost:8080/"
        },
        "id": "zVHP18WRFajF",
        "outputId": "a9021d5f-1646-40b0-9064-0e4495eda614"
      },
      "execution_count": 7,
      "outputs": [
        {
          "output_type": "stream",
          "name": "stdout",
          "text": [
            "The roots are\n",
            "(-3.414213562373095+0j)\n",
            "(-0.5857864376269049+0j)\n"
          ]
        }
      ]
    },
    {
      "cell_type": "markdown",
      "source": [
        "5. Write a Python program to swap two variables without temp variable?"
      ],
      "metadata": {
        "id": "g-njaJALOmkx"
      }
    },
    {
      "cell_type": "code",
      "source": [
        "a=10\n",
        "b=20\n",
        "\n",
        "# using 2 variables\n",
        "a=a+b\n",
        "b=a-b\n",
        "a=a-b\n",
        "\n",
        "print(\"a\",a)\n",
        "print(\"b\",b)"
      ],
      "metadata": {
        "colab": {
          "base_uri": "https://localhost:8080/"
        },
        "id": "24PJEIxEOvdT",
        "outputId": "b24e1f04-3cb4-4e1d-d091-0e444063d39b"
      },
      "execution_count": null,
      "outputs": [
        {
          "output_type": "stream",
          "name": "stdout",
          "text": [
            "a 20\n",
            "b 10\n"
          ]
        }
      ]
    }
  ]
}