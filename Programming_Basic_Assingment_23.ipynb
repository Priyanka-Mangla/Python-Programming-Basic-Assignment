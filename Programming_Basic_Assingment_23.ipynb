{
  "nbformat": 4,
  "nbformat_minor": 0,
  "metadata": {
    "colab": {
      "name": "Programming_Basic_Assingment 23.ipynb",
      "provenance": [],
      "collapsed_sections": []
    },
    "kernelspec": {
      "name": "python3",
      "display_name": "Python 3"
    },
    "language_info": {
      "name": "python"
    }
  },
  "cells": [
    {
      "cell_type": "markdown",
      "source": [
        "**Programming_Basic_Assingment 23**"
      ],
      "metadata": {
        "id": "SuX3KFja69D2"
      }
    },
    {
      "cell_type": "markdown",
      "source": [
        "Question 1 : Create a function that takes a number as an argument and returns True or False depending on whether the number is symmetrical or not. A number is symmetrical when it is the same as its reverse.\n",
        "\n",
        "Examples\n",
        "\n",
        "is_symmetrical(7227) ➞ True\n",
        "\n",
        "is_symmetrical(12567) ➞ False\n",
        "\n",
        "is_symmetrical(44444444) ➞ True\n",
        "\n",
        "is_symmetrical(9939) ➞ False\n",
        "\n",
        "is_symmetrical(1112111) ➞ True\n",
        "\n"
      ],
      "metadata": {
        "id": "KiEWfVQY6_Ct"
      }
    },
    {
      "cell_type": "code",
      "source": [
        "def is_symmetrical(n):\n",
        "  return (str(n) == str(n)[::-1])\n",
        "      \n",
        "print(is_symmetrical(7227))\n",
        "\n",
        "print(is_symmetrical(12567))\n",
        "\n",
        "print(is_symmetrical(44444444))\n",
        "\n",
        "print(is_symmetrical(9939))\n",
        "\n",
        "print(is_symmetrical(1112111))"
      ],
      "metadata": {
        "colab": {
          "base_uri": "https://localhost:8080/"
        },
        "id": "CgOH6tSl5jwF",
        "outputId": "ba1898ab-0d9f-4dc0-e9c8-ee38f515ffbd"
      },
      "execution_count": 6,
      "outputs": [
        {
          "output_type": "stream",
          "name": "stdout",
          "text": [
            "True\n",
            "False\n",
            "True\n",
            "False\n",
            "True\n"
          ]
        }
      ]
    },
    {
      "cell_type": "markdown",
      "source": [
        "Question 2 : Given a string of numbers separated by a comma and space, return the product of the numbers.\n",
        "\n",
        "Examples\n",
        "\n",
        "multiply_nums(\"2, 3\") ➞ 6\n",
        "\n",
        "multiply_nums(\"1, 2, 3, 4\") ➞ 24\n",
        "\n",
        "multiply_nums(\"54, 75, 453, 0\") ➞ 0\n",
        "\n",
        "multiply_nums(\"10, -2\") ➞ -20\n",
        "\n"
      ],
      "metadata": {
        "id": "tzcb-8dT7FQI"
      }
    },
    {
      "cell_type": "code",
      "source": [
        "def multiply_nums(s):\n",
        "  s1 = 1\n",
        "  for i in s.split(', '):\n",
        "    s1 = s1*int(i)\n",
        "  return s1\n",
        "\n",
        "print(multiply_nums(\"2, 3\"))\n",
        "print(multiply_nums(\"1, 2, 3, 4\"))\n",
        "print(multiply_nums(\"54, 75, 453, 0\"))\n",
        "print(multiply_nums(\"10, -2\"))"
      ],
      "metadata": {
        "colab": {
          "base_uri": "https://localhost:8080/"
        },
        "id": "hiXSerZE8_GE",
        "outputId": "b96bd61e-3679-40b9-c952-e220dededce7"
      },
      "execution_count": 12,
      "outputs": [
        {
          "output_type": "stream",
          "name": "stdout",
          "text": [
            "6\n",
            "24\n",
            "0\n",
            "-20\n"
          ]
        }
      ]
    },
    {
      "cell_type": "markdown",
      "source": [
        "Question 3 : Create a function that squares every digit of a number.\n",
        "\n",
        "Examples\n",
        "\n",
        "square_digits(9119) ➞ 811181\n",
        "\n",
        "square_digits(2483) ➞ 416649\n",
        "\n",
        "square_digits(3212) ➞ 9414\n",
        "\n",
        "Notes: The function receives an integer and must return an integer."
      ],
      "metadata": {
        "id": "AsptVTn47G_-"
      }
    },
    {
      "cell_type": "code",
      "source": [
        "def square_digits(num):\n",
        "    r = ''\n",
        "    for i in str(num):\n",
        "     r = r + str((int(i))**2)\n",
        "    return int(r) \n",
        "\n",
        "print(square_digits(9119))\n",
        "print(square_digits(2483))\n",
        "print(square_digits(3212))"
      ],
      "metadata": {
        "colab": {
          "base_uri": "https://localhost:8080/"
        },
        "id": "rFCarAXuAdD3",
        "outputId": "9ca667b6-25ad-4cee-ad10-745f16a213ef"
      },
      "execution_count": 19,
      "outputs": [
        {
          "output_type": "stream",
          "name": "stdout",
          "text": [
            "811181\n",
            "416649\n",
            "9414\n"
          ]
        }
      ]
    },
    {
      "cell_type": "markdown",
      "source": [
        "Question 4 : Create a function that sorts a list and removes all duplicate items from it.\n",
        "\n",
        "Examples\n",
        "\n",
        "setify([1, 3, 3, 5, 5]) ➞ [1, 3, 5]\n",
        "\n",
        "setify([4, 4, 4, 4]) ➞ [4]\n",
        "\n",
        "setify([5, 7, 8, 9, 10, 15]) ➞ [5, 7, 8, 9, 10, 15]\n",
        "\n",
        "setify([3, 3, 3, 2, 1]) ➞ [1, 2, 3]"
      ],
      "metadata": {
        "id": "ikQAg7357I2i"
      }
    },
    {
      "cell_type": "code",
      "source": [
        "def setify(l):\n",
        "  uniq_l = []\n",
        "  for i in l:\n",
        "    if i not in uniq_l:\n",
        "      uniq_l.append(i)\n",
        "  uniq_l.sort()\n",
        "  return uniq_l\n",
        "\n",
        "print(setify([1, 3, 3, 5, 5]))\n",
        "print(setify([4, 4, 4, 4]))\n",
        "print(setify([5, 7, 8, 9, 10, 15]))\n",
        "print(setify([3, 3, 3, 2, 1]))"
      ],
      "metadata": {
        "colab": {
          "base_uri": "https://localhost:8080/"
        },
        "id": "bt_TE4JVIEao",
        "outputId": "5c7af794-369e-40ca-adb2-db9d59ba6862"
      },
      "execution_count": 22,
      "outputs": [
        {
          "output_type": "stream",
          "name": "stdout",
          "text": [
            "[1, 3, 5]\n",
            "[4]\n",
            "[5, 7, 8, 9, 10, 15]\n",
            "[1, 2, 3]\n"
          ]
        }
      ]
    },
    {
      "cell_type": "markdown",
      "source": [
        "Question 5 : Create a function that returns the mean of all digits.\n",
        "\n",
        "Examples\n",
        "\n",
        "mean(42) ➞ 3\n",
        "\n",
        "mean(12345) ➞ 3\n",
        "\n",
        "mean(666) ➞ 6\n",
        "\n",
        "Notes: The mean of all digits is the sum of digits / how many digits there are (e.g. mean of digits in 512 is (5+1+2)/3(number of digits) = 8/3=2).\n",
        "The mean will always be an integer."
      ],
      "metadata": {
        "id": "hpLHA2J77KE7"
      }
    },
    {
      "cell_type": "code",
      "execution_count": 35,
      "metadata": {
        "id": "AHACBKV_660M",
        "colab": {
          "base_uri": "https://localhost:8080/"
        },
        "outputId": "d56082ff-ec2d-4784-b75d-20c57a50e27f"
      },
      "outputs": [
        {
          "output_type": "stream",
          "name": "stdout",
          "text": [
            "3.0\n",
            "3.0\n",
            "6.0\n"
          ]
        }
      ],
      "source": [
        "def mean(num):\n",
        "    sum_num = 0\n",
        "    for t in str(num):\n",
        "        sum_num = sum_num + int(t)           \n",
        "\n",
        "    avg = sum_num / len(str(num))\n",
        "    return avg\n",
        "\n",
        "print(mean(42))\n",
        "print(mean(12345))\n",
        "print(mean(666))"
      ]
    }
  ]
}