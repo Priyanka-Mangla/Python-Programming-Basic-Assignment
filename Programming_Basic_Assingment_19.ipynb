{
  "nbformat": 4,
  "nbformat_minor": 0,
  "metadata": {
    "colab": {
      "name": "Programming_Basic_Assingment 19.ipynb",
      "provenance": [],
      "collapsed_sections": []
    },
    "kernelspec": {
      "name": "python3",
      "display_name": "Python 3"
    },
    "language_info": {
      "name": "python"
    }
  },
  "cells": [
    {
      "cell_type": "markdown",
      "source": [
        "**Programming_Basic_Assingment 19**"
      ],
      "metadata": {
        "id": "Gh-249sXqyj8"
      }
    },
    {
      "cell_type": "markdown",
      "source": [
        "Question1: Create a function that takes a string and returns a string in which each character is repeated once.\n",
        "\n",
        "Examples: \n",
        "\n",
        "double_char(\"String\") ➞ \"SSttrriinngg\"\n",
        "\n",
        "double_char(\"Hello World!\") ➞ \"HHeelllloo  WWoorrlldd!!\"\n",
        "\n",
        "double_char(\"1234!_ \") ➞ \"11223344!!__  \""
      ],
      "metadata": {
        "id": "V-rNek8roNz3"
      }
    },
    {
      "cell_type": "code",
      "source": [
        "def double_char(s):\n",
        "  s1 = \"\"\n",
        "  for i in s:\n",
        "    for j in range(0,2):\n",
        "      s1 += i\n",
        "  return s1\n",
        "\n",
        "print(double_char(\"String\"))\n",
        "print(double_char(\"Hello World!\"))\n",
        "print(double_char(\"1234!_ \"))"
      ],
      "metadata": {
        "colab": {
          "base_uri": "https://localhost:8080/"
        },
        "id": "vXmsUEdgrE9w",
        "outputId": "5f22e77c-8b19-44d0-c568-e8e30a77d6c8"
      },
      "execution_count": null,
      "outputs": [
        {
          "output_type": "stream",
          "name": "stdout",
          "text": [
            "SSttrriinngg\n",
            "HHeelllloo  WWoorrlldd!!\n",
            "11223344!!__  \n"
          ]
        }
      ]
    },
    {
      "cell_type": "markdown",
      "source": [
        "Question2 : Create a function that reverses a boolean value and returns the string \"boolean expected\" if another variable type is given.\n",
        "\n",
        "Examples: \n",
        "\n",
        "reverse(True) ➞ False\n",
        "\n",
        "reverse(False) ➞ True\n",
        "\n",
        "reverse(0) ➞ \"boolean expected\"\n",
        "\n",
        "reverse(None) ➞ \"boolean expected\"\n"
      ],
      "metadata": {
        "id": "D5v81WyhooLD"
      }
    },
    {
      "cell_type": "code",
      "source": [
        "def reverse(arg):\n",
        "\tif isinstance(arg, bool):\n",
        "\t\treturn not arg\n",
        "\telse:\n",
        "\t\treturn('boolean expected')\n",
        "\n",
        "def reverse(arg=None):\n",
        "  if type(arg) == bool:\n",
        "    \t\treturn not arg\n",
        "  else:\n",
        "    return('boolean expected')\n",
        "\n",
        "print(reverse(True)) # False\n",
        "print(reverse(False)) # True\n",
        "print(reverse(0)) # \"boolean expected\"\n",
        "print(reverse(None)) # \"boolean expected\""
      ],
      "metadata": {
        "colab": {
          "base_uri": "https://localhost:8080/"
        },
        "id": "XhkKknoW1ggT",
        "outputId": "3d09a890-9f22-466b-b220-8e849c17132a"
      },
      "execution_count": null,
      "outputs": [
        {
          "output_type": "stream",
          "name": "stdout",
          "text": [
            "False\n",
            "True\n",
            "boolean expected\n",
            "boolean expected\n"
          ]
        }
      ]
    },
    {
      "cell_type": "markdown",
      "source": [
        "Question3: Create a function that returns the thickness (in meters) of a piece of paper after folding it n number of times. The paper starts off with a thickness of 0.5mm.\n",
        "\n",
        "Examples:\n",
        "\n",
        "num_layers(1) ➞ \"0.001m\"\n",
        "#### Paper folded once is 1mm (equal to 0.001m)\n",
        "\n",
        "num_layers(4) ➞ \"0.008m\"\n",
        "#### Paper folded 4 times is 8mm (equal to 0.008m)\n",
        "\n",
        "num_layers(21) ➞ \"1048.576m\"\n",
        "#### Paper folded 21 times is 1048576mm (equal to 1048.576m)"
      ],
      "metadata": {
        "id": "y_7XDJlVoqkP"
      }
    },
    {
      "cell_type": "code",
      "source": [
        "Don't Know"
      ],
      "metadata": {
        "id": "kK26YMbgIuE6"
      },
      "execution_count": null,
      "outputs": []
    },
    {
      "cell_type": "markdown",
      "source": [
        "Question4: Create a function that takes a single string as argument and returns an ordered list containing the indices of all capital letters in the string.\n",
        "\n",
        "Examples: \n",
        "\n",
        "index_of_caps(\"eDaBiT\") ➞ [1, 3, 5]\n",
        "\n",
        "index_of_caps(\"eQuINoX\") ➞ [1, 3, 4, 6]\n",
        "\n",
        "index_of_caps(\"determine\") ➞ []\n",
        "\n",
        "index_of_caps(\"STRIKE\") ➞ [0, 1, 2, 3, 4, 5]\n",
        "\n",
        "index_of_caps(\"sUn\") ➞ [1]"
      ],
      "metadata": {
        "id": "1E_1ttWfovHn"
      }
    },
    {
      "cell_type": "code",
      "source": [
        "def index_of_caps(s):\n",
        "  l = []\n",
        "  for i in range(0, len(s)):\n",
        "    if s[i].isupper():\n",
        "      l.append(i)\n",
        "  print(l)\n",
        "\n",
        "index_of_caps(\"eDaBiT\")\n",
        "index_of_caps(\"eQuINoX\")\n",
        "index_of_caps(\"determine\")\n",
        "index_of_caps(\"STRIKE\")\n",
        "index_of_caps(\"sUn\")"
      ],
      "metadata": {
        "colab": {
          "base_uri": "https://localhost:8080/"
        },
        "id": "0qSY7E0sGVJG",
        "outputId": "e862f8fb-6872-4bd4-ce65-f471d8d856fe"
      },
      "execution_count": null,
      "outputs": [
        {
          "output_type": "stream",
          "name": "stdout",
          "text": [
            "[1, 3, 5]\n",
            "[1, 3, 4, 6]\n",
            "[]\n",
            "[0, 1, 2, 3, 4, 5]\n",
            "[1]\n"
          ]
        }
      ]
    },
    {
      "cell_type": "markdown",
      "source": [
        "Question5: Using list comprehensions, create a function that finds all even numbers from 1 to the given number.\n",
        "\n",
        "Examples:\n",
        "\n",
        "find_even_nums(8) ➞ [2, 4, 6, 8]\n",
        "\n",
        "find_even_nums(4) ➞ [2, 4]\n",
        "\n",
        "find_even_nums(2) ➞ [2]"
      ],
      "metadata": {
        "id": "DO_e7oQEoxJh"
      }
    },
    {
      "cell_type": "code",
      "execution_count": null,
      "metadata": {
        "colab": {
          "base_uri": "https://localhost:8080/"
        },
        "id": "I6ObfAcaoNEn",
        "outputId": "cebe3d8b-4b6d-4c72-d514-741b1710f95e"
      },
      "outputs": [
        {
          "output_type": "stream",
          "name": "stdout",
          "text": [
            "[2, 4, 6, 8]\n",
            "[2, 4]\n",
            "[2]\n"
          ]
        }
      ],
      "source": [
        "def find_even_nums(n):\n",
        "  l = []\n",
        "  for i in range(1,n+1):\n",
        "    if i % 2 == 0:\n",
        "      l.append(i)\n",
        "  print(l)\n",
        "\n",
        "find_even_nums(8)\n",
        "find_even_nums(4)\n",
        "find_even_nums(2)"
      ]
    }
  ]
}