{
  "nbformat": 4,
  "nbformat_minor": 0,
  "metadata": {
    "colab": {
      "name": "Python Programming Basic Assignment 1.ipynb",
      "provenance": [],
      "collapsed_sections": []
    },
    "kernelspec": {
      "name": "python3",
      "display_name": "Python 3"
    },
    "language_info": {
      "name": "python"
    }
  },
  "cells": [
    {
      "cell_type": "markdown",
      "source": [
        "**Python Programming Basic Assignment 1**"
      ],
      "metadata": {
        "id": "bXlVVZ7g_GBC"
      }
    },
    {
      "cell_type": "markdown",
      "source": [
        "1. Write a Python program to print \"Hello Python\"?\n"
      ],
      "metadata": {
        "id": "B7YlNMuM_NUi"
      }
    },
    {
      "cell_type": "code",
      "source": [
        "a = \"Hello Python\"\n",
        "print(a)"
      ],
      "metadata": {
        "colab": {
          "base_uri": "https://localhost:8080/"
        },
        "id": "cAMsQmtt_wh2",
        "outputId": "3286cbe8-91fa-400f-d02b-df2675214ef3"
      },
      "execution_count": 1,
      "outputs": [
        {
          "output_type": "stream",
          "name": "stdout",
          "text": [
            "Hello Python\n"
          ]
        }
      ]
    },
    {
      "cell_type": "markdown",
      "source": [
        "2. Write a Python program to do arithmetical operations addition and division.?\n",
        "\n"
      ],
      "metadata": {
        "id": "GHoigX7m_jYw"
      }
    },
    {
      "cell_type": "code",
      "source": [
        "a = 100\n",
        "b = 20\n",
        "# addition\n",
        "sum = a + b\n",
        "# division\n",
        "div = a/b\n",
        "print(sum)\n",
        "print(div)"
      ],
      "metadata": {
        "colab": {
          "base_uri": "https://localhost:8080/"
        },
        "id": "rZNbM_zN_-Sn",
        "outputId": "34f8efa3-2f1f-429a-d00d-53ad759fe547"
      },
      "execution_count": 2,
      "outputs": [
        {
          "output_type": "stream",
          "name": "stdout",
          "text": [
            "120\n",
            "5.0\n"
          ]
        }
      ]
    },
    {
      "cell_type": "markdown",
      "source": [
        "3. Write a Python program to find the area of a triangle?\n"
      ],
      "metadata": {
        "id": "v1fecE3G_mbf"
      }
    },
    {
      "cell_type": "code",
      "source": [
        "a=5\n",
        "b=6\n",
        "c=7\n",
        "\n",
        "# calculate the Perimeter\n",
        "Perimeter = a + b + c\n",
        "\n",
        "# calculate the semi-perimeter.\n",
        "s = (a + b + c) / 2\n",
        "\n",
        "# calculate the area.\n",
        "area = (s*(s-a)*(s-b)*(s-c)) ** 0.5\n",
        "\n",
        "print(Perimeter)\n",
        "print(s)\n",
        "print(area)"
      ],
      "metadata": {
        "colab": {
          "base_uri": "https://localhost:8080/"
        },
        "id": "1pZRHc02AcLj",
        "outputId": "3078af9a-4f9f-4f0c-bbb2-3b12cf57fd77"
      },
      "execution_count": 3,
      "outputs": [
        {
          "output_type": "stream",
          "name": "stdout",
          "text": [
            "18\n",
            "9.0\n",
            "14.696938456699069\n"
          ]
        }
      ]
    },
    {
      "cell_type": "markdown",
      "source": [
        "4. Write a Python program to swap two variables?\n"
      ],
      "metadata": {
        "id": "_CYZjx5B_pSI"
      }
    },
    {
      "cell_type": "code",
      "source": [
        "a=10\n",
        "b=20\n",
        "\n",
        "# using 3 variables\n",
        "c=a\n",
        "a=b\n",
        "b=c\n",
        "\n",
        "print(\"a\",a)\n",
        "print(\"b\",b)"
      ],
      "metadata": {
        "colab": {
          "base_uri": "https://localhost:8080/"
        },
        "id": "03SYTuhTCcgV",
        "outputId": "59da003e-f3bf-4ea2-c957-8d695e3d2808"
      },
      "execution_count": 9,
      "outputs": [
        {
          "output_type": "stream",
          "name": "stdout",
          "text": [
            "a 20\n",
            "b 10\n"
          ]
        }
      ]
    },
    {
      "cell_type": "code",
      "source": [
        "a=10\n",
        "b=20\n",
        "\n",
        "# using 2 variables\n",
        "a=a+b\n",
        "b=a-b\n",
        "a=a-b\n",
        "\n",
        "print(\"a\",a)\n",
        "print(\"b\",b)"
      ],
      "metadata": {
        "colab": {
          "base_uri": "https://localhost:8080/"
        },
        "id": "Zfnu550YC_gX",
        "outputId": "3c3559da-8831-48d8-bc1d-e4cbc914e486"
      },
      "execution_count": 8,
      "outputs": [
        {
          "output_type": "stream",
          "name": "stdout",
          "text": [
            "a 20\n",
            "b 10\n"
          ]
        }
      ]
    },
    {
      "cell_type": "markdown",
      "source": [
        "5. Write a Python program to generate a random number?\n"
      ],
      "metadata": {
        "id": "Ack9MURg_ru4"
      }
    },
    {
      "cell_type": "code",
      "source": [
        "# importing the random module\n",
        "import random\n",
        "\n",
        "print(random.randint(0,9))"
      ],
      "metadata": {
        "colab": {
          "base_uri": "https://localhost:8080/"
        },
        "id": "DIxkq2vcHpgk",
        "outputId": "4156fff9-d214-4199-cdcb-6afd1ac18cb9"
      },
      "execution_count": 10,
      "outputs": [
        {
          "output_type": "stream",
          "name": "stdout",
          "text": [
            "3\n"
          ]
        }
      ]
    }
  ]
}