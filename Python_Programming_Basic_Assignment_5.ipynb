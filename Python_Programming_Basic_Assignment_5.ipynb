{
  "nbformat": 4,
  "nbformat_minor": 0,
  "metadata": {
    "colab": {
      "name": "Python Programming Basic Assignment 5.ipynb",
      "provenance": [],
      "collapsed_sections": []
    },
    "kernelspec": {
      "name": "python3",
      "display_name": "Python 3"
    },
    "language_info": {
      "name": "python"
    }
  },
  "cells": [
    {
      "cell_type": "markdown",
      "source": [
        "**Python Programming Basic Assignment 5**"
      ],
      "metadata": {
        "id": "U4OkUPGK4qiP"
      }
    },
    {
      "cell_type": "markdown",
      "source": [
        "1. Write a Python Program to Find LCM?\n",
        "\n",
        "a x b = LCM(a, b) x GCD(a, b)\n",
        "\n",
        "LCM(a, b) = (a x b) / GCD(a, b)"
      ],
      "metadata": {
        "id": "48oXgLBX4ueg"
      }
    },
    {
      "cell_type": "code",
      "source": [
        "import math as m\n",
        "\n",
        "a = 20\n",
        "b = 25\n",
        "\n",
        "lcm = (a * b) / m.gcd(a, b)\n",
        "\n",
        "print(\"LCM of\", a, \"and\", b, \"is:\", lcm)"
      ],
      "metadata": {
        "colab": {
          "base_uri": "https://localhost:8080/"
        },
        "id": "5Bv-ipFz1SrL",
        "outputId": "575cd0a0-2048-46bd-e96e-c3247e6eee8b"
      },
      "execution_count": null,
      "outputs": [
        {
          "output_type": "stream",
          "name": "stdout",
          "text": [
            "LCM of 20 and 25 is: 100.0\n"
          ]
        }
      ]
    },
    {
      "cell_type": "markdown",
      "source": [
        "2. Write a Python Program to Find HCF?\n"
      ],
      "metadata": {
        "id": "miGDU8as44Cd"
      }
    },
    {
      "cell_type": "code",
      "source": [
        "import math as m\n",
        "\n",
        "a = 20\n",
        "b = 25\n",
        "\n",
        "lcm = (a * b) / m.gcd(a, b)\n",
        "\n",
        "hcf = (a * b)/lcm\n",
        "\n",
        "print(\"HCF of\", a, \"and\", b, \"is:\", hcf)"
      ],
      "metadata": {
        "colab": {
          "base_uri": "https://localhost:8080/"
        },
        "id": "Rq1_s0J62D3J",
        "outputId": "63461aee-8cdf-4f74-aafe-b69cd15c94d7"
      },
      "execution_count": null,
      "outputs": [
        {
          "output_type": "stream",
          "name": "stdout",
          "text": [
            "HCF of 20 and 25 is: 5.0\n"
          ]
        }
      ]
    },
    {
      "cell_type": "markdown",
      "source": [
        "3. Write a Python Program to Convert Decimal to Binary, Octal and Hexadecimal?\n"
      ],
      "metadata": {
        "id": "latS3Rja45pA"
      }
    },
    {
      "cell_type": "code",
      "source": [
        "dec = 32\n",
        "\n",
        "print(\"The decimal value of\", dec, \"is:\")\n",
        "print(bin(dec), \"in binary.\")\n",
        "print(oct(dec), \"in octal.\")\n",
        "print(hex(dec), \"in hexadecimal.\")"
      ],
      "metadata": {
        "colab": {
          "base_uri": "https://localhost:8080/"
        },
        "id": "gNIRMMvMvi1F",
        "outputId": "0e92d191-fb9a-4ab9-e98d-675a4116db9e"
      },
      "execution_count": 3,
      "outputs": [
        {
          "output_type": "stream",
          "name": "stdout",
          "text": [
            "The decimal value of 32 is:\n",
            "0b100000 in binary.\n",
            "0o40 in octal.\n",
            "0x20 in hexadecimal.\n"
          ]
        }
      ]
    },
    {
      "cell_type": "markdown",
      "source": [
        "4. Write a Python Program To Find ASCII value of a character?\n"
      ],
      "metadata": {
        "id": "Dbk4Xi8_47CH"
      }
    },
    {
      "cell_type": "code",
      "source": [
        "char = 'A'\n",
        "print(\"ASCII VALUE OF\", ord(char))"
      ],
      "metadata": {
        "colab": {
          "base_uri": "https://localhost:8080/"
        },
        "id": "4-qngxaZwd9M",
        "outputId": "04cbee75-f0b3-4854-9c12-b47f0af1fdd5"
      },
      "execution_count": 5,
      "outputs": [
        {
          "output_type": "stream",
          "name": "stdout",
          "text": [
            "ASCII VALUE OF 65\n"
          ]
        }
      ]
    },
    {
      "cell_type": "markdown",
      "source": [
        "5. Write a Python Program to Make a Simple Calculator with 4 basic mathematical operations?\n",
        "\n",
        "operation -\n",
        "1. Add\n",
        "2. Subtract\n",
        "3. Multiply\n",
        "4. Divide"
      ],
      "metadata": {
        "id": "gbIhncI548bK"
      }
    },
    {
      "cell_type": "code",
      "execution_count": 10,
      "metadata": {
        "id": "g3Ght_iy4eHH",
        "colab": {
          "base_uri": "https://localhost:8080/"
        },
        "outputId": "d69503b0-a218-4654-af8e-d4b30e2bd717"
      },
      "outputs": [
        {
          "output_type": "stream",
          "name": "stdout",
          "text": [
            "1st number60\n",
            "2nd number5\n",
            "select operation from +, -, *, /*\n",
            "multiply 300\n"
          ]
        }
      ],
      "source": [
        "num1 = int(input(\"1st number\"))\n",
        "num2 = int(input(\"2nd number\"))\n",
        "\n",
        "select_opration = input(\"select operation from +, -, *, /\")\n",
        "\n",
        "if select_opration == '+':\n",
        "  add = num1+num2\n",
        "  print(\"addition\", add)\n",
        "\n",
        "elif select_opration == '-':\n",
        "  sub = num1 - num2\n",
        "  print(\"subtraction\", sub)\n",
        "\n",
        "elif select_opration == '*':\n",
        "  mul = num1 * num2\n",
        "  print(\"multiply\", mul)\n",
        "\n",
        "elif select_opration == '/':\n",
        "  div = num1 / num2\n",
        "  print(\"division\", div)\n",
        "\n",
        "else:\n",
        "  print(\"invalid input opeartion\")"
      ]
    }
  ]
}