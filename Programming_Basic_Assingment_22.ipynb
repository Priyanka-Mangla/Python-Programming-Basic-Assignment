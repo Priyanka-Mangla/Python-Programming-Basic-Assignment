{
  "nbformat": 4,
  "nbformat_minor": 0,
  "metadata": {
    "colab": {
      "name": "Programming_Basic_Assingment 22.ipynb",
      "provenance": [],
      "collapsed_sections": []
    },
    "kernelspec": {
      "name": "python3",
      "display_name": "Python 3"
    },
    "language_info": {
      "name": "python"
    }
  },
  "cells": [
    {
      "cell_type": "markdown",
      "source": [
        "**Programming_Basic_Assingment 22**"
      ],
      "metadata": {
        "id": "wIco5Wx9O-lC"
      }
    },
    {
      "cell_type": "markdown",
      "source": [
        "Question1 : Create a function that takes three parameters where:\n",
        "\n",
        "x is the start of the range (inclusive).\n",
        "\n",
        "y is the end of the range (inclusive).\n",
        "\n",
        "n is the divisor to be checked against.\n",
        "\n",
        "Return an ordered list with numbers in the range that are divisible by the third parameter n. Return an empty list if there are no numbers that are divisible by n.\n",
        "\n",
        "Examples\n",
        "\n",
        "list_operation(1, 10, 3) ➞ [3, 6, 9]\n",
        "\n",
        "list_operation(7, 9, 2) ➞ [8]\n",
        "\n",
        "list_operation(15, 20, 7) ➞ []\n",
        "\n"
      ],
      "metadata": {
        "id": "0TFr05r3PBYh"
      }
    },
    {
      "cell_type": "code",
      "source": [
        "def list_operation(x, y, n):\n",
        "  l1 = []\n",
        "  result_l = []\n",
        "  for i in range(x, y+1):\n",
        "    if i % n == 0:\n",
        "      result_l.append(i)\n",
        "      result_l.sort()\n",
        "  return result_l\n",
        "\n",
        "print(list_operation(1, 10, 3))\n",
        "print(list_operation(7, 9, 2))\n",
        "print(list_operation(15, 20, 7))"
      ],
      "metadata": {
        "id": "6PkEcHJOQ3C-",
        "colab": {
          "base_uri": "https://localhost:8080/"
        },
        "outputId": "c799ef51-acd6-42d4-8d50-d02ac0e788e4"
      },
      "execution_count": 10,
      "outputs": [
        {
          "output_type": "stream",
          "name": "stdout",
          "text": [
            "[3, 6, 9]\n",
            "[8]\n",
            "[]\n"
          ]
        }
      ]
    },
    {
      "cell_type": "markdown",
      "source": [
        "Question2 : Create a function that takes in two lists and returns True if the second list follows the first list by one element, and False otherwise. In other words, determine if the second list is the first list shifted to the right by 1.\n",
        "\n",
        "Examples\n",
        "\n",
        "simon_says([1, 2], [5, 1]) ➞ True\n",
        "\n",
        "simon_says([1, 2], [5, 5]) ➞ False\n",
        "\n",
        "simon_says([1, 2, 3, 4, 5], [0, 1, 2, 3, 4]) ➞ True\n",
        "\n",
        "simon_says([1, 2, 3, 4, 5], [5, 5, 1, 2, 3]) ➞ False\n",
        "\n",
        "Notes : Both input lists will be of the same length, and will have a minimum length of 2.\n",
        "\n",
        "The values of the 0-indexed element in the second list and the n-1th indexed element in the first list do not matter.\n",
        "\n"
      ],
      "metadata": {
        "id": "aAC_3VNuPj7j"
      }
    },
    {
      "cell_type": "code",
      "source": [
        "def simon_says(l1, l2):\n",
        "  x = len(l1)\n",
        "  y = len(l2)\n",
        "  return (l1[0:x-1] == l2[1:y])\n",
        "\n",
        "print(simon_says([1, 2], [5, 1]))\n",
        "print(simon_says([1, 2, 3, 4, 5], [0, 1, 2, 3, 4]))\n",
        "print(simon_says([1, 2, 3, 4, 5], [5, 5, 1, 2, 3])) "
      ],
      "metadata": {
        "colab": {
          "base_uri": "https://localhost:8080/"
        },
        "id": "OMYimdMtVWrC",
        "outputId": "89edba88-446c-4c00-dc26-3f096e0d72ba"
      },
      "execution_count": 31,
      "outputs": [
        {
          "output_type": "stream",
          "name": "stdout",
          "text": [
            "True\n",
            "True\n",
            "False\n"
          ]
        }
      ]
    },
    {
      "cell_type": "markdown",
      "source": [
        "Question3 : A group of friends have decided to start a secret society. The name will be the first letter of each of their names, sorted in alphabetical order.\n",
        "Create a function that takes in a list of names and returns the name of the secret society.\n",
        "\n",
        "Examples\n",
        "\n",
        "society_name([\"Adam\", \"Sarah\", \"Malcolm\"]) ➞ \"AMS\"\n",
        "\n",
        "society_name([\"Harry\", \"Newt\", \"Luna\", \"Cho\"]) ➞ \"CHLN\"\n",
        "\n",
        "society_name([\"Phoebe\", \"Chandler\", \"Rachel\", \"Ross\", \"Monica\", \"Joey\"])"
      ],
      "metadata": {
        "id": "SKXdxKghPl_l"
      }
    },
    {
      "cell_type": "code",
      "source": [
        "def society_name(l):\n",
        "  s = ''\n",
        "  for i in l:\n",
        "    s += i[0]\n",
        "  s1= sorted(s)\n",
        "  return (\"\".join(s1))\n",
        "  \n",
        "print(society_name([\"Adam\", \"Sarah\", \"Malcolm\"]))\n",
        "print(society_name([\"Harry\", \"Newt\", \"Luna\", \"Cho\"]))\n",
        "print(society_name([\"Phoebe\", \"Chandler\", \"Rachel\", \"Ross\", \"Monica\", \"Joey\"]))"
      ],
      "metadata": {
        "colab": {
          "base_uri": "https://localhost:8080/"
        },
        "id": "XfAKZzK3aX6v",
        "outputId": "c983f5d6-7616-4cec-f9e1-f4b0c5744895"
      },
      "execution_count": 59,
      "outputs": [
        {
          "output_type": "stream",
          "name": "stdout",
          "text": [
            "AMS\n",
            "CHLN\n",
            "CJMPRR\n"
          ]
        }
      ]
    },
    {
      "cell_type": "markdown",
      "source": [
        "Question4 : An isogram is a word that has no duplicate letters. Create a function that takes a string and returns either True or False depending on whether or not it's an \"isogram\".\n",
        "\n",
        "Examples\n",
        "\n",
        "is_isogram(\"Algorism\") ➞ True\n",
        "\n",
        "is_isogram(\"PasSword\") ➞ False\n",
        "# Not case sensitive.\n",
        "\n",
        "is_isogram(\"Consecutive\") ➞ False\n",
        "\n",
        "Notes : Ignore letter case (should not be case sensitive).\n",
        "\n",
        "All test cases contain valid one word strings."
      ],
      "metadata": {
        "id": "FDQ4-W-2PntC"
      }
    },
    {
      "cell_type": "code",
      "source": [
        "def is_isogram(s):\n",
        "    s_iso = s.lower()\n",
        "    l1 = []\n",
        "    for i in s_iso:\n",
        "      if i.isalpha():\n",
        "        if i in l1:\n",
        "          return False\n",
        "        l1.append(i)\n",
        "  \n",
        "    return True\n",
        "\n",
        "print(is_isogram(\"Algorism\"))\n",
        "print(is_isogram(\"PasSword\"))\n",
        "print(is_isogram(\"Consecutive\"))"
      ],
      "metadata": {
        "colab": {
          "base_uri": "https://localhost:8080/"
        },
        "id": "C4yvHlC5um8h",
        "outputId": "b292bb5e-86a7-495c-867d-e56a4c0306aa"
      },
      "execution_count": 75,
      "outputs": [
        {
          "output_type": "stream",
          "name": "stdout",
          "text": [
            "True\n",
            "False\n",
            "False\n"
          ]
        }
      ]
    },
    {
      "cell_type": "markdown",
      "source": [
        "Question5 : Create a function that takes a string and returns True or False, depending on whether the characters are in order or not.\n",
        "\n",
        "Examples\n",
        "\n",
        "is_in_order(\"abc\") ➞ True\n",
        "\n",
        "is_in_order(\"edabit\") ➞ False\n",
        "\n",
        "is_in_order(\"123\") ➞ True\n",
        "\n",
        "\n",
        "is_in_order(\"xyzz\") ➞ True\n",
        "\n",
        "Notes : You don't have to handle empty strings."
      ],
      "metadata": {
        "id": "1eCr65zPPpR3"
      }
    },
    {
      "cell_type": "code",
      "execution_count": 83,
      "metadata": {
        "id": "geHeJhvhO8vT",
        "colab": {
          "base_uri": "https://localhost:8080/"
        },
        "outputId": "58ba9630-6cce-46ba-8534-e9e89ec4e273"
      },
      "outputs": [
        {
          "output_type": "stream",
          "name": "stdout",
          "text": [
            "True\n",
            "False\n",
            "True\n",
            "True\n",
            "False\n"
          ]
        }
      ],
      "source": [
        "def is_in_order(s):\n",
        "    for i in range(len(s)-1):\n",
        "      if s[i] > s[i+1]:\n",
        "        return False\n",
        "    return True\n",
        "  \n",
        "print(is_in_order(\"abc\"))\n",
        "print(is_in_order(\"edabit\"))\n",
        "print(is_in_order(\"123\"))\n",
        "print(is_in_order(\"xyzz\"))\n",
        "print(is_in_order(\"acb\"))"
      ]
    },
    {
      "cell_type": "code",
      "source": [
        "# another way\n",
        "\n",
        "def is_in_order(word):\n",
        "    return word==''.join(sorted(word))\n",
        "\n",
        "print(is_in_order(\"edabit\"))\n",
        "print(is_in_order(\"123\"))\n",
        "print(is_in_order(\"xyzz\"))\n",
        "print(is_in_order(\"acb\"))"
      ],
      "metadata": {
        "colab": {
          "base_uri": "https://localhost:8080/"
        },
        "id": "ezhyoG4Nzu_R",
        "outputId": "4b1d2c7b-2e6c-4d5a-a740-908e63dc9d2c"
      },
      "execution_count": 85,
      "outputs": [
        {
          "output_type": "stream",
          "name": "stdout",
          "text": [
            "False\n",
            "True\n",
            "True\n",
            "False\n"
          ]
        }
      ]
    }
  ]
}