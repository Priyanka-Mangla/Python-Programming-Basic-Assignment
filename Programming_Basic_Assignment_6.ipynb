{
  "nbformat": 4,
  "nbformat_minor": 0,
  "metadata": {
    "colab": {
      "name": "Programming_Basic_Assignment 6.ipynb",
      "provenance": [],
      "collapsed_sections": []
    },
    "kernelspec": {
      "name": "python3",
      "display_name": "Python 3"
    },
    "language_info": {
      "name": "python"
    }
  },
  "cells": [
    {
      "cell_type": "markdown",
      "source": [
        "**Programming_Basic_Assignment 6**"
      ],
      "metadata": {
        "id": "j-02GFJIVA_F"
      }
    },
    {
      "cell_type": "markdown",
      "source": [
        "1. Write a Python Program to Display Fibonacci Sequence Using Recursion?\n"
      ],
      "metadata": {
        "id": "jvGMHJt6VCzz"
      }
    },
    {
      "cell_type": "code",
      "source": [
        "def fibo(n):\n",
        "  if n<0:\n",
        "    print(\"incorrect number\")\n",
        "  elif n==0 :\n",
        "    return 0\n",
        "  elif n==1 or n==2:\n",
        "    return 1\n",
        "  else:\n",
        "    return fibo(n-1) + fibo(n-2)\n",
        "\n",
        "num_terms=int(input(\"enter num\"))\n",
        "if num_terms <= 0:\n",
        "   print(\"Enter a positive integer\")\n",
        "else:\n",
        "   print(\"The fibonacci sequence is :\")\n",
        "   for i in range(num_terms):\n",
        "      print(fibo(i), end=',')"
      ],
      "metadata": {
        "colab": {
          "base_uri": "https://localhost:8080/"
        },
        "id": "zulvOUnMSpuN",
        "outputId": "0dd8b989-9277-451d-8876-d2ce87f56e4a"
      },
      "execution_count": 15,
      "outputs": [
        {
          "output_type": "stream",
          "name": "stdout",
          "text": [
            "enter num9\n",
            "The fibonacci sequence is :\n",
            "0,1,1,2,3,5,8,13,21,"
          ]
        }
      ]
    },
    {
      "cell_type": "markdown",
      "source": [
        "2. Write a Python Program to Find Factorial of Number Using Recursion?\n"
      ],
      "metadata": {
        "id": "nweDpbO8VPX9"
      }
    },
    {
      "cell_type": "code",
      "source": [
        "def recur_factorial(n):\n",
        "   if n == 0 or n == 1:\n",
        "       return 1\n",
        "   else:\n",
        "       return n*recur_factorial(n-1)\n",
        "\n",
        "print(recur_factorial(0))\n",
        "print(recur_factorial(5))"
      ],
      "metadata": {
        "colab": {
          "base_uri": "https://localhost:8080/"
        },
        "id": "zKCRtiOnUVTf",
        "outputId": "eb96a287-0fb8-4278-f5b8-bb8d41a42d79"
      },
      "execution_count": 19,
      "outputs": [
        {
          "output_type": "stream",
          "name": "stdout",
          "text": [
            "1\n",
            "120\n"
          ]
        }
      ]
    },
    {
      "cell_type": "markdown",
      "source": [
        "3. Write a Python Program to calculate your Body Mass Index?\n",
        "\n",
        "BMI = weight / (height/100)**2."
      ],
      "metadata": {
        "id": "PyX8X7kTVRXB"
      }
    },
    {
      "cell_type": "code",
      "source": [
        "def bmi(w,h):\n",
        "  return round((w/h**2),2)\n",
        "\n",
        "print(bmi(65,6))"
      ],
      "metadata": {
        "colab": {
          "base_uri": "https://localhost:8080/"
        },
        "id": "O-7xko8_Z1Ny",
        "outputId": "4264027a-7055-4caf-9c0f-40f664213e0e"
      },
      "execution_count": 24,
      "outputs": [
        {
          "output_type": "stream",
          "name": "stdout",
          "text": [
            "1.81\n"
          ]
        }
      ]
    },
    {
      "cell_type": "markdown",
      "source": [
        "4. Write a Python Program to calculate the natural logarithm of any number?\n"
      ],
      "metadata": {
        "id": "fIPfVkcEVS6B"
      }
    },
    {
      "cell_type": "code",
      "source": [
        "import math\n",
        "\n",
        "n = int(input(\"Enter the number: \"))\n",
        "ans = math.log(n)\n",
        "\n",
        "print(\"The value is:\",round((ans),3))"
      ],
      "metadata": {
        "colab": {
          "base_uri": "https://localhost:8080/"
        },
        "id": "fed3f1a8bbu7",
        "outputId": "d7804a64-e730-423f-e317-680a73a0e3bd"
      },
      "execution_count": 27,
      "outputs": [
        {
          "output_type": "stream",
          "name": "stdout",
          "text": [
            "Enter the number: 5\n",
            "The value is: 1.609\n"
          ]
        }
      ]
    },
    {
      "cell_type": "code",
      "source": [
        "import math\n",
        "\n",
        "try:\n",
        "  n=int(input(\" log of num \"))\n",
        "except exception as e:\n",
        "  print(e)\n",
        "else:\n",
        "  print(round(math.log(n),3))"
      ],
      "metadata": {
        "colab": {
          "base_uri": "https://localhost:8080/"
        },
        "id": "h9N0kxdmdIhO",
        "outputId": "3cdfed4e-d795-44fd-f058-0adb267087f9"
      },
      "execution_count": 31,
      "outputs": [
        {
          "output_type": "stream",
          "name": "stdout",
          "text": [
            " log of num 5\n",
            "1.609\n"
          ]
        }
      ]
    },
    {
      "cell_type": "markdown",
      "source": [
        "5. Write a Python Program for cube sum of first n natural numbers?"
      ],
      "metadata": {
        "id": "dXmOCXHbVUsu"
      }
    },
    {
      "cell_type": "code",
      "execution_count": 33,
      "metadata": {
        "id": "29C-3_dEU7EY",
        "colab": {
          "base_uri": "https://localhost:8080/"
        },
        "outputId": "82575567-1c7e-4d5d-daf5-660edb8e7ba0"
      },
      "outputs": [
        {
          "output_type": "execute_result",
          "data": {
            "text/plain": [
              "36"
            ]
          },
          "metadata": {},
          "execution_count": 33
        }
      ],
      "source": [
        "def cube_sum(n):\n",
        "  sum=0\n",
        "  for i in range(n+1):\n",
        "    sum += (i*i*i)\n",
        "  return sum\n",
        "\n",
        "cube_sum(3)"
      ]
    },
    {
      "cell_type": "code",
      "source": [
        "cube_sum(5)"
      ],
      "metadata": {
        "colab": {
          "base_uri": "https://localhost:8080/"
        },
        "id": "0nxCTJMqeOiL",
        "outputId": "c1412395-ed4b-470f-8ff6-2740195913a3"
      },
      "execution_count": 34,
      "outputs": [
        {
          "output_type": "execute_result",
          "data": {
            "text/plain": [
              "225"
            ]
          },
          "metadata": {},
          "execution_count": 34
        }
      ]
    }
  ]
}