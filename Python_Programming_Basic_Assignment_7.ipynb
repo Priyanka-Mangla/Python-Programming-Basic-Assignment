{
  "nbformat": 4,
  "nbformat_minor": 0,
  "metadata": {
    "colab": {
      "name": "Python Programming Basic Assignment 7.ipynb",
      "provenance": [],
      "collapsed_sections": []
    },
    "kernelspec": {
      "name": "python3",
      "display_name": "Python 3"
    },
    "language_info": {
      "name": "python"
    }
  },
  "cells": [
    {
      "cell_type": "markdown",
      "source": [
        "**Python Programming Basic Assignment 7**"
      ],
      "metadata": {
        "id": "cQScGSUk2WbO"
      }
    },
    {
      "cell_type": "markdown",
      "source": [
        "1. Write a Python Program to find sum of array?\n",
        "\n"
      ],
      "metadata": {
        "id": "IdYlg2Jt2abs"
      }
    },
    {
      "cell_type": "code",
      "source": [
        "import array as arr\n",
        "a=arr.array('b',[1,26,98,78])  # b is a data type of integer\n",
        "print(a[2])\n"
      ],
      "metadata": {
        "colab": {
          "base_uri": "https://localhost:8080/"
        },
        "id": "_NgVZ9Eu21Ip",
        "outputId": "0dac5a7f-fa93-4ce4-be3c-02e69d504b4b"
      },
      "execution_count": 1,
      "outputs": [
        {
          "output_type": "stream",
          "name": "stdout",
          "text": [
            "98\n"
          ]
        }
      ]
    },
    {
      "cell_type": "code",
      "source": [
        "import array as arr\n",
        "a=arr.array('d',[1.1,1.2,1.3, 1.4])  # d is a data type of float\n",
        "print(a[1])\n",
        "print(a[3])"
      ],
      "metadata": {
        "colab": {
          "base_uri": "https://localhost:8080/"
        },
        "id": "9JQ44j-Y8LZR",
        "outputId": "29f9c532-63a1-4a26-98f1-24722085f838"
      },
      "execution_count": 2,
      "outputs": [
        {
          "output_type": "stream",
          "name": "stdout",
          "text": [
            "1.2\n",
            "1.4\n"
          ]
        }
      ]
    },
    {
      "cell_type": "markdown",
      "source": [
        "2. Write a Python Program to find largest element in an array?\n"
      ],
      "metadata": {
        "id": "mLn2V56i2k9e"
      }
    },
    {
      "cell_type": "code",
      "source": [
        "import array as arr\n",
        "a=arr.array('d',[1.1,1.2,1.3, 1.4,0.9,1.9,1.5])  # d is a data type of float\n",
        "print(max(a))"
      ],
      "metadata": {
        "colab": {
          "base_uri": "https://localhost:8080/"
        },
        "id": "Wn2I2JeR8eZE",
        "outputId": "50654771-6cec-410d-8790-e7dd43564210"
      },
      "execution_count": 3,
      "outputs": [
        {
          "output_type": "stream",
          "name": "stdout",
          "text": [
            "1.9\n"
          ]
        }
      ]
    },
    {
      "cell_type": "markdown",
      "source": [
        "3. Write a Python Program for array rotation?\n"
      ],
      "metadata": {
        "id": "0sHi7DJM2lRT"
      }
    },
    {
      "cell_type": "code",
      "source": [
        "import array as arr\n",
        "a=arr.array('d',[1.1,1.2,1.3, 1.4,0.9,1.9,1.5])  # d is a data type of float\n",
        "# print(a[::-1])\n",
        "print(\"length of an array\",len(a))\n",
        "\n",
        "a.reverse()\n",
        "\n",
        "print(a[0])\n",
        "print(a[6])"
      ],
      "metadata": {
        "colab": {
          "base_uri": "https://localhost:8080/"
        },
        "id": "yPFpXVCs8y3T",
        "outputId": "527a03a5-f4ed-43cd-b25d-1491abfed0bf"
      },
      "execution_count": 4,
      "outputs": [
        {
          "output_type": "stream",
          "name": "stdout",
          "text": [
            "length of an array 7\n",
            "1.5\n",
            "1.1\n"
          ]
        }
      ]
    },
    {
      "cell_type": "markdown",
      "source": [
        "4. Write a Python Program to Split the array and add the first part to the end?\n"
      ],
      "metadata": {
        "id": "7y2IIm5J2lhg"
      }
    },
    {
      "cell_type": "code",
      "source": [
        "import array as arr\n",
        "a=arr.array('b',[1,2,3,4,5,6])\n",
        "print(\"initial array\",a)\n",
        "\n",
        "# splitting\n",
        "part1 = a[:2]\n",
        "print(\"part1\", part1)\n",
        "\n",
        "part2 = a[2:]\n",
        "print(\"part2\", part2)\n",
        "\n",
        "for i in part1:\n",
        "  part2.append(i)\n",
        "\n",
        "print(\"part2 + part1\", part2)\n"
      ],
      "metadata": {
        "colab": {
          "base_uri": "https://localhost:8080/"
        },
        "id": "w14fX_aREIUb",
        "outputId": "f915252a-7c70-4f96-88e9-0d7855163878"
      },
      "execution_count": 5,
      "outputs": [
        {
          "output_type": "stream",
          "name": "stdout",
          "text": [
            "initial array array('b', [1, 2, 3, 4, 5, 6])\n",
            "part1 array('b', [1, 2])\n",
            "part2 array('b', [3, 4, 5, 6])\n",
            "part2 + part1 array('b', [3, 4, 5, 6, 1, 2])\n"
          ]
        }
      ]
    },
    {
      "cell_type": "markdown",
      "source": [
        "5. Write a Python Program to check if given array is Monotonic?"
      ],
      "metadata": {
        "id": "8K6Z4bMk2lvN"
      }
    },
    {
      "cell_type": "code",
      "source": [
        "def is_Monotonic(A):\n",
        "\n",
        "    if all(A[i] <= A[i+1] for i in range (len(A)-1)):\n",
        "        return \"Monotonic increasing\"\n",
        "\n",
        "    elif all(A[i] >= A[i+1] for i in range (len(A)-1)):\n",
        "        return \"Monotonic decreasing\"\n",
        "\n",
        "    return \"not Monotonic array\"\n",
        "\n",
        "A = [3, 5, 7, 19]\n",
        "print(\"The given array is:\",is_Monotonic(A))"
      ],
      "metadata": {
        "colab": {
          "base_uri": "https://localhost:8080/"
        },
        "id": "E1kvgqrgBu1G",
        "outputId": "9c068944-c4d4-4bc6-894e-f9dc38de9656"
      },
      "execution_count": 9,
      "outputs": [
        {
          "output_type": "stream",
          "name": "stdout",
          "text": [
            "The given array is: Monotonic increasing\n"
          ]
        }
      ]
    }
  ]
}