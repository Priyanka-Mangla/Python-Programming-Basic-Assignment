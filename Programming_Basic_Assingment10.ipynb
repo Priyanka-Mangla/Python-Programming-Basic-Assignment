{
  "nbformat": 4,
  "nbformat_minor": 0,
  "metadata": {
    "colab": {
      "name": "Programming_Basic_Assingment10.ipynb",
      "provenance": [],
      "collapsed_sections": []
    },
    "kernelspec": {
      "name": "python3",
      "display_name": "Python 3"
    },
    "language_info": {
      "name": "python"
    }
  },
  "cells": [
    {
      "cell_type": "markdown",
      "source": [
        "Programming_Basic_Assingment10"
      ],
      "metadata": {
        "id": "MpaEql1Kce10"
      }
    },
    {
      "cell_type": "markdown",
      "source": [
        "1. Write a Python program to find sum of elements in list?"
      ],
      "metadata": {
        "id": "AmEsKbfJctBE"
      }
    },
    {
      "cell_type": "code",
      "execution_count": null,
      "metadata": {
        "id": "6HkYeA9jos4T",
        "colab": {
          "base_uri": "https://localhost:8080/"
        },
        "outputId": "3290e392-bfdc-4106-bfe7-46ce7da4bf6a"
      },
      "outputs": [
        {
          "output_type": "execute_result",
          "data": {
            "text/plain": [
              "55"
            ]
          },
          "metadata": {},
          "execution_count": 1
        }
      ],
      "source": [
        "l = [1,4,5 ,45]\n",
        "sum(l)"
      ]
    },
    {
      "cell_type": "markdown",
      "source": [
        "2. Write a Python program to  Multiply all numbers in the list?\n"
      ],
      "metadata": {
        "id": "pNutQNdpcrJw"
      }
    },
    {
      "cell_type": "code",
      "source": [
        "l1= [1,4,5,10]\n",
        "def mul(l):\n",
        "  result= 1\n",
        "  for i in l1:\n",
        "    result = result * i\n",
        "  return result\n",
        "\n",
        "mul(l1)"
      ],
      "metadata": {
        "colab": {
          "base_uri": "https://localhost:8080/"
        },
        "id": "Z5ykIYQrdgnM",
        "outputId": "414a7471-96c4-49cd-ef35-ad3f56c41e29"
      },
      "execution_count": null,
      "outputs": [
        {
          "output_type": "execute_result",
          "data": {
            "text/plain": [
              "200"
            ]
          },
          "metadata": {},
          "execution_count": 7
        }
      ]
    },
    {
      "cell_type": "code",
      "source": [
        "#another way\n",
        "import numpy as np\n",
        "\n",
        "l1= [1,4,5,10]\n",
        "\n",
        "mul = np.prod(l1)\n",
        "mul"
      ],
      "metadata": {
        "colab": {
          "base_uri": "https://localhost:8080/"
        },
        "id": "d0WyQ7uyqyGx",
        "outputId": "6068d083-83bb-4900-ecaf-fc24e5749d7f"
      },
      "execution_count": null,
      "outputs": [
        {
          "output_type": "execute_result",
          "data": {
            "text/plain": [
              "200"
            ]
          },
          "metadata": {},
          "execution_count": 8
        }
      ]
    },
    {
      "cell_type": "markdown",
      "source": [
        "3. Write a Python program to find smallest number in a list?\n"
      ],
      "metadata": {
        "id": "G_Wzhl7ccxL1"
      }
    },
    {
      "cell_type": "code",
      "source": [
        "l2=[20,45,36,10,98,4,25,100]\n",
        "min(l2)"
      ],
      "metadata": {
        "colab": {
          "base_uri": "https://localhost:8080/"
        },
        "id": "CXO4zMzJrcSH",
        "outputId": "082b492a-893d-4b11-aa24-ac91d6d9dce3"
      },
      "execution_count": null,
      "outputs": [
        {
          "output_type": "execute_result",
          "data": {
            "text/plain": [
              "4"
            ]
          },
          "metadata": {},
          "execution_count": 9
        }
      ]
    },
    {
      "cell_type": "code",
      "source": [
        "#another way using function\n",
        "l2=[20,45,36,10,98,4,25,100]\n",
        "def smallest(l):\n",
        "\n",
        "  small = l2[0]\n",
        "  \n",
        "  for i in l2:\n",
        "    while i < small:\n",
        "      small = i\n",
        "     \n",
        "  return small\n",
        "\n",
        "smallest(l2)"
      ],
      "metadata": {
        "colab": {
          "base_uri": "https://localhost:8080/"
        },
        "id": "w5nfuPYKgxjE",
        "outputId": "504b77bf-f0f4-4231-fcfa-c276e92b4a7b"
      },
      "execution_count": null,
      "outputs": [
        {
          "output_type": "execute_result",
          "data": {
            "text/plain": [
              "4"
            ]
          },
          "metadata": {},
          "execution_count": 20
        }
      ]
    },
    {
      "cell_type": "markdown",
      "source": [
        "4. Write a Python program to find largest number in a list?\n"
      ],
      "metadata": {
        "id": "dHzI83rhc6GK"
      }
    },
    {
      "cell_type": "code",
      "source": [
        "l3=[20,45,36,10,98,4,25,100]\n",
        "def largest(l):\n",
        "\n",
        "  large = l3[0]\n",
        "  \n",
        "  for i in l2:\n",
        "    while i > large:\n",
        "      large = i\n",
        "     \n",
        "  return large\n",
        "\n",
        "largest(l3)"
      ],
      "metadata": {
        "colab": {
          "base_uri": "https://localhost:8080/"
        },
        "id": "HAl8t0_-tMlp",
        "outputId": "ff4a3a77-ceae-4082-e853-f758eee3ae5f"
      },
      "execution_count": null,
      "outputs": [
        {
          "output_type": "execute_result",
          "data": {
            "text/plain": [
              "100"
            ]
          },
          "metadata": {},
          "execution_count": 21
        }
      ]
    },
    {
      "cell_type": "markdown",
      "source": [
        "5. Write a Python program to find second largest number in a list?\n"
      ],
      "metadata": {
        "id": "sdlpAKupc8Vn"
      }
    },
    {
      "cell_type": "code",
      "source": [
        "l3=[20,45,36,10,98,4,25,100]\n",
        "l3.sort()\n",
        "print(l3)\n",
        "l3[6]"
      ],
      "metadata": {
        "colab": {
          "base_uri": "https://localhost:8080/"
        },
        "id": "Q6tgkt4RtiyQ",
        "outputId": "954af9c0-22b3-4e0e-b994-8e2a68c7adfc"
      },
      "execution_count": null,
      "outputs": [
        {
          "output_type": "stream",
          "name": "stdout",
          "text": [
            "[4, 10, 20, 25, 36, 45, 98, 100]\n"
          ]
        },
        {
          "output_type": "execute_result",
          "data": {
            "text/plain": [
              "98"
            ]
          },
          "metadata": {},
          "execution_count": 27
        }
      ]
    },
    {
      "cell_type": "code",
      "source": [
        "#another way\n",
        "l4=[20,45,36,10,98,4,25,100, 100]\n",
        "def sec_max(l):\n",
        "\n",
        "  max1 = max(l[0], l[1])\n",
        "  second_max = min(l[0],l[1])\n",
        "  \n",
        "  for i in range(2,len(l)):\n",
        "    if l[i] > max1:\n",
        "      second_max = max1\n",
        "      max1 = l[i]\n",
        "    \n",
        "    elif l[i] > second_max and max1 != l[i]:\n",
        "      second_max = l[i]\n",
        "\n",
        "  return second_max\n",
        "\n",
        "sec_max(l4)\n"
      ],
      "metadata": {
        "colab": {
          "base_uri": "https://localhost:8080/"
        },
        "id": "IAgnz1EjulkY",
        "outputId": "551ada00-24a6-4558-eee6-eb8e638bc586"
      },
      "execution_count": null,
      "outputs": [
        {
          "output_type": "execute_result",
          "data": {
            "text/plain": [
              "98"
            ]
          },
          "metadata": {},
          "execution_count": 31
        }
      ]
    },
    {
      "cell_type": "markdown",
      "source": [
        "6. Write a Python program to find N largest elements from a list?\n"
      ],
      "metadata": {
        "id": "CkC0p9hRc_AI"
      }
    },
    {
      "cell_type": "code",
      "source": [
        "Don't know"
      ],
      "metadata": {
        "id": "Il21nJCW4Rl5"
      },
      "execution_count": null,
      "outputs": []
    },
    {
      "cell_type": "markdown",
      "source": [
        "7. Write a Python program to print even numbers in a list?\n"
      ],
      "metadata": {
        "id": "lFKL3AQXdBPl"
      }
    },
    {
      "cell_type": "code",
      "source": [
        "l5 = [20,45,36,10,98,4,25,99, 100]\n",
        "odd_list = []\n",
        "def even(l):\n",
        "  for i in l5:\n",
        "    if i % 2 == 0:\n",
        "      odd_list.append(i)\n",
        "  return odd_list\n",
        "\n",
        "even(l5)\n"
      ],
      "metadata": {
        "colab": {
          "base_uri": "https://localhost:8080/"
        },
        "id": "wA3lWXsfuda9",
        "outputId": "47c039b4-c03a-4aec-f4d2-bd86d19628ea"
      },
      "execution_count": 1,
      "outputs": [
        {
          "output_type": "execute_result",
          "data": {
            "text/plain": [
              "[20, 36, 10, 98, 4, 100]"
            ]
          },
          "metadata": {},
          "execution_count": 1
        }
      ]
    },
    {
      "cell_type": "markdown",
      "source": [
        "8. Write a Python program to print odd numbers in a List?\n"
      ],
      "metadata": {
        "id": "5UcAWMn-dDii"
      }
    },
    {
      "cell_type": "code",
      "source": [
        "l6 = [20,45,36,10,98,4,25,99, 100]\n",
        "odd_list = []\n",
        "def even(l):\n",
        "  for i in l5:\n",
        "    if i % 2 != 0:\n",
        "      odd_list.append(i)\n",
        "  return odd_list\n",
        "\n",
        "even(l6)"
      ],
      "metadata": {
        "colab": {
          "base_uri": "https://localhost:8080/"
        },
        "id": "r7ZA3xVgvmI0",
        "outputId": "b2452281-4045-4e79-837e-f8d7502504d6"
      },
      "execution_count": 2,
      "outputs": [
        {
          "output_type": "execute_result",
          "data": {
            "text/plain": [
              "[45, 25, 99]"
            ]
          },
          "metadata": {},
          "execution_count": 2
        }
      ]
    },
    {
      "cell_type": "markdown",
      "source": [
        "9. Write a Python program to Remove empty List from List?\n"
      ],
      "metadata": {
        "id": "bZx_U53OdFeJ"
      }
    },
    {
      "cell_type": "code",
      "source": [
        "a = [[1,'aa',3,12,'a','b','c','s'],[],[],[1,'aa',7,80,'d','g','f'],[9,11,12,13,14,15,'k']]\n",
        "\n",
        "b = list(filter(lambda x: len(x)>0, a))\n",
        "\n",
        "b"
      ],
      "metadata": {
        "colab": {
          "base_uri": "https://localhost:8080/"
        },
        "id": "5jSWu9pKyKKn",
        "outputId": "6149fd66-1788-4fbc-ac66-62c1581d0afa"
      },
      "execution_count": 18,
      "outputs": [
        {
          "output_type": "execute_result",
          "data": {
            "text/plain": [
              "[[1, 'aa', 3, 12, 'a', 'b', 'c', 's'],\n",
              " [1, 'aa', 7, 80, 'd', 'g', 'f'],\n",
              " [9, 11, 12, 13, 14, 15, 'k']]"
            ]
          },
          "metadata": {},
          "execution_count": 18
        }
      ]
    },
    {
      "cell_type": "code",
      "source": [
        "# another way\n",
        "list1 = [[], [], [], [], [], 'text', 'text2', [], 'moreText']\n",
        "\n",
        "b = list(filter(None, list1))\n",
        "b"
      ],
      "metadata": {
        "colab": {
          "base_uri": "https://localhost:8080/"
        },
        "id": "NqPyVIc7y5rj",
        "outputId": "b63fb51a-8cfb-452e-8fab-5e794d5dcdd9"
      },
      "execution_count": 14,
      "outputs": [
        {
          "output_type": "execute_result",
          "data": {
            "text/plain": [
              "['text', 'text2', 'moreText']"
            ]
          },
          "metadata": {},
          "execution_count": 14
        }
      ]
    },
    {
      "cell_type": "code",
      "source": [
        "# another way\n",
        "\n",
        "list1 = [[], [], [], [], [], 'text', 'text2', [], 'moreText', 0.5, 1, -1, 0]\n",
        "\n",
        "b = list(filter(lambda x: x == 0 or x, list1))\n",
        "b"
      ],
      "metadata": {
        "colab": {
          "base_uri": "https://localhost:8080/"
        },
        "id": "QDgTxEk_1Z-c",
        "outputId": "bb083420-075a-4e64-ef42-2cbb9d384596"
      },
      "execution_count": 17,
      "outputs": [
        {
          "output_type": "execute_result",
          "data": {
            "text/plain": [
              "['text', 'text2', 'moreText', 0.5, 1, -1, 0]"
            ]
          },
          "metadata": {},
          "execution_count": 17
        }
      ]
    },
    {
      "cell_type": "markdown",
      "source": [
        "10. Write a Python program to Cloning or Copying a list?\n"
      ],
      "metadata": {
        "id": "DrXVPOCOdHa1"
      }
    },
    {
      "cell_type": "code",
      "source": [
        "l7 = [20,45,36,10,98,4,25,99, 100]\n",
        "new_list = l7.copy()\n",
        "new_list"
      ],
      "metadata": {
        "colab": {
          "base_uri": "https://localhost:8080/"
        },
        "id": "PSbVIoEFv0UQ",
        "outputId": "5c706229-d9a6-46c4-895a-3095f1d53ca0"
      },
      "execution_count": 3,
      "outputs": [
        {
          "output_type": "execute_result",
          "data": {
            "text/plain": [
              "[20, 45, 36, 10, 98, 4, 25, 99, 100]"
            ]
          },
          "metadata": {},
          "execution_count": 3
        }
      ]
    },
    {
      "cell_type": "markdown",
      "source": [
        "11. Write a Python program to Count occurrences of an element in a list?"
      ],
      "metadata": {
        "id": "twAOGMUkdNdX"
      }
    },
    {
      "cell_type": "code",
      "source": [
        "lst1 = [8, 6, 8, 10, 8, 20, 10, 8, 8]\n",
        "\n",
        "# count occurrence of 8 in a list\n",
        "x1 = 8\n",
        "\n",
        "def countx(lst,x):\n",
        "  count = 0\n",
        "  for i in lst:\n",
        "    if i == x:\n",
        "      count = count+1\n",
        "  return count\n",
        "\n",
        "countx(lst1,x1)\n",
        "\n"
      ],
      "metadata": {
        "colab": {
          "base_uri": "https://localhost:8080/"
        },
        "id": "opJmNYRH2UOM",
        "outputId": "6465af9a-30fa-4fe8-9086-432e505621c3"
      },
      "execution_count": 21,
      "outputs": [
        {
          "output_type": "execute_result",
          "data": {
            "text/plain": [
              "5"
            ]
          },
          "metadata": {},
          "execution_count": 21
        }
      ]
    },
    {
      "cell_type": "code",
      "source": [
        "# another way\n",
        "lst1 = [8, 6, 8, 10, 8, 20, 10, 8, 8]\n",
        "\n",
        "# count occurrence of 8 in a list\n",
        "x1 = 8\n",
        "\n",
        "def countX(lst, x):\n",
        "    return lst.count(x)\n",
        "\n",
        "countx(lst1,x1)"
      ],
      "metadata": {
        "colab": {
          "base_uri": "https://localhost:8080/"
        },
        "id": "g1YmzK8_3IP1",
        "outputId": "5cb12a58-d43c-4b17-b077-d34cfb17d91b"
      },
      "execution_count": 22,
      "outputs": [
        {
          "output_type": "execute_result",
          "data": {
            "text/plain": [
              "5"
            ]
          },
          "metadata": {},
          "execution_count": 22
        }
      ]
    },
    {
      "cell_type": "code",
      "source": [
        ""
      ],
      "metadata": {
        "id": "E88x2yO13jwZ"
      },
      "execution_count": null,
      "outputs": []
    }
  ]
}