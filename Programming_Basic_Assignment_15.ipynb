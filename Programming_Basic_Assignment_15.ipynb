{
  "nbformat": 4,
  "nbformat_minor": 0,
  "metadata": {
    "colab": {
      "name": "Programming_Basic_Assignment 15.ipynb",
      "provenance": [],
      "collapsed_sections": []
    },
    "kernelspec": {
      "name": "python3",
      "display_name": "Python 3"
    },
    "language_info": {
      "name": "python"
    }
  },
  "cells": [
    {
      "cell_type": "markdown",
      "source": [
        "**Programming_Basic_Assignment 15**"
      ],
      "metadata": {
        "id": "mqMVs2xN0N_L"
      }
    },
    {
      "cell_type": "markdown",
      "source": [
        "Question 1: Please write a program using generator to print the numbers which can be divisible by 5 and 7 between 0 and n in comma separated form while n is input by console.\n",
        "\n",
        "Example: If the following n is given as input to the program: 100\n",
        "\n",
        "Then, the output of the program should be: 0,35,70\n"
      ],
      "metadata": {
        "id": "XQvsZ38o0Nc5"
      }
    },
    {
      "cell_type": "code",
      "source": [
        "def task1(n):\n",
        "  for i in range(0,n+1):\n",
        "    if (i % 5 == 0) and (i % 7 == 0):\n",
        "      yield str(i)\n",
        "\n",
        "print(','.join(j for j in task1(100)))"
      ],
      "metadata": {
        "colab": {
          "base_uri": "https://localhost:8080/"
        },
        "id": "1PFnyz3L6j-T",
        "outputId": "c3c8f672-ca8f-47f5-bebc-50c57c5c4d0e"
      },
      "execution_count": 13,
      "outputs": [
        {
          "output_type": "stream",
          "name": "stdout",
          "text": [
            "0,35,70\n"
          ]
        }
      ]
    },
    {
      "cell_type": "code",
      "source": [
        "#another way\n",
        "def task1(n):\n",
        "  for i in range(0,n+1):\n",
        "    if (i % 5 == 0) and (i % 7 == 0):\n",
        "      yield i\n",
        "\n",
        "for j in task1(100):\n",
        "  print(j,end=\",\")"
      ],
      "metadata": {
        "colab": {
          "base_uri": "https://localhost:8080/"
        },
        "id": "DGUtKbwc1kbi",
        "outputId": "7a25f675-f153-484b-99f6-567ba573cc32"
      },
      "execution_count": 4,
      "outputs": [
        {
          "output_type": "stream",
          "name": "stdout",
          "text": [
            "0,35,70,"
          ]
        }
      ]
    },
    {
      "cell_type": "markdown",
      "source": [
        "Question 2: Please write a program using generator to print the even numbers between 0 and n in comma separated form while n is input by console.\n",
        "\n",
        "Example: If the following n is given as input to the program: 10\n",
        "\n",
        "Then, the output of the program should be: 0,2,4,6,8,10"
      ],
      "metadata": {
        "id": "KR58nYL10-Rj"
      }
    },
    {
      "cell_type": "code",
      "source": [
        "def even(n):\n",
        "  for i in range(n+1):\n",
        "    if i % 2 == 0:\n",
        "      yield str(i)\n",
        "\n",
        "print(','.join(j for j in even(10)))"
      ],
      "metadata": {
        "colab": {
          "base_uri": "https://localhost:8080/"
        },
        "id": "cuATHI9H1kg5",
        "outputId": "ba6e234c-7006-4fda-c3a9-5e2c17810534"
      },
      "execution_count": 22,
      "outputs": [
        {
          "output_type": "stream",
          "name": "stdout",
          "text": [
            "0,2,4,6,8,10\n"
          ]
        }
      ]
    },
    {
      "cell_type": "markdown",
      "source": [
        "Question 3: The Fibonacci Sequence is computed based on the following formula:\n",
        "\n",
        "f(n)=0 if n=0\n",
        "\n",
        "f(n)=1 if n=1\n",
        "\n",
        "f(n)=f(n-1)+f(n-2) if n>1\n",
        "\n",
        "Please write a program using list comprehension to print the Fibonacci Sequence in comma separated form with a given n input by console.\n",
        "\n",
        "Example: If the following n is given as input to the program: 7\n",
        "\n",
        "Then, the output of the program should be: 0,1,1,2,3,5,8,13"
      ],
      "metadata": {
        "id": "nwfCyhK41ArT"
      }
    },
    {
      "cell_type": "code",
      "source": [
        "def fibo(n):\n",
        "    i = 0\n",
        "    j = 1\n",
        "    for k in range(n+1):\n",
        "        yield i\n",
        "        i,j = j, i+j\n",
        "\n",
        "print(','.join([str(num) for num in fibo(7)]))"
      ],
      "metadata": {
        "colab": {
          "base_uri": "https://localhost:8080/"
        },
        "id": "LQLv3ETfIbgj",
        "outputId": "473b430e-0063-4c7e-df7d-6f127c52ecfa"
      },
      "execution_count": 64,
      "outputs": [
        {
          "output_type": "stream",
          "name": "stdout",
          "text": [
            "0,1,1,2,3,5,8,13\n"
          ]
        }
      ]
    },
    {
      "cell_type": "markdown",
      "source": [
        "Question 4: Assuming that we have some email addresses in the \"username@companyname.com\" format, please write program to print the user name of a given email address. Both user names and company names are composed of letters only.\n",
        "\n",
        "Example:\n",
        "If the following email address is given as input to the program:\n",
        "john@google.com\n",
        "Then, the output of the program should be:\n",
        "john\n"
      ],
      "metadata": {
        "id": "juJqALs41Dt-"
      }
    },
    {
      "cell_type": "code",
      "source": [
        "def username(email):\n",
        "    return email.split('@')[0]"
      ],
      "metadata": {
        "id": "FoXfOebxNj8H"
      },
      "execution_count": 74,
      "outputs": []
    },
    {
      "cell_type": "code",
      "source": [
        "x = 'john@google.com'\n",
        "username(x)"
      ],
      "metadata": {
        "colab": {
          "base_uri": "https://localhost:8080/",
          "height": 35
        },
        "id": "a5tETPbCOkJa",
        "outputId": "bd873214-d6ea-48ff-f307-020e2c364cc8"
      },
      "execution_count": 75,
      "outputs": [
        {
          "output_type": "execute_result",
          "data": {
            "text/plain": [
              "'john'"
            ],
            "application/vnd.google.colaboratory.intrinsic+json": {
              "type": "string"
            }
          },
          "metadata": {},
          "execution_count": 75
        }
      ]
    },
    {
      "cell_type": "markdown",
      "source": [
        "Question 5: Define a class named Shape and its subclass Square. The Square class has an init function which takes a length as argument. Both classes have a area function which can print the area of the shape where Shape's area is 0 by default."
      ],
      "metadata": {
        "id": "E0kOxkU91E6Z"
      }
    },
    {
      "cell_type": "code",
      "execution_count": 86,
      "metadata": {
        "id": "gKYPybGXz_sh"
      },
      "outputs": [],
      "source": [
        "class shape:\n",
        "\n",
        "  def area(self):\n",
        "    return 0\n",
        "\n",
        "class square(shape):\n",
        "  def __init__(self, len):\n",
        "    self.len = len\n",
        "\n",
        "  def area(self):\n",
        "    return self.len*self.len"
      ]
    },
    {
      "cell_type": "code",
      "source": [
        "shape_obj = shape()\n",
        "\n",
        "shape_obj.area()"
      ],
      "metadata": {
        "colab": {
          "base_uri": "https://localhost:8080/"
        },
        "id": "EMV9NSmMSxzW",
        "outputId": "b1ab3267-1756-44a6-f993-5b94a4c63be8"
      },
      "execution_count": 87,
      "outputs": [
        {
          "output_type": "execute_result",
          "data": {
            "text/plain": [
              "0"
            ]
          },
          "metadata": {},
          "execution_count": 87
        }
      ]
    },
    {
      "cell_type": "code",
      "source": [
        "square_obj = square(13)\n",
        "\n",
        "square_obj.area()"
      ],
      "metadata": {
        "colab": {
          "base_uri": "https://localhost:8080/"
        },
        "id": "yi5rM5gWS6zy",
        "outputId": "6cff0ba3-ce6b-4a95-f255-5a4469a052ca"
      },
      "execution_count": 88,
      "outputs": [
        {
          "output_type": "execute_result",
          "data": {
            "text/plain": [
              "169"
            ]
          },
          "metadata": {},
          "execution_count": 88
        }
      ]
    }
  ]
}