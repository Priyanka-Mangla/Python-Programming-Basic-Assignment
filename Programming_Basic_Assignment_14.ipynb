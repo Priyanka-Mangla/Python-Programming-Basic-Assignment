{
  "nbformat": 4,
  "nbformat_minor": 0,
  "metadata": {
    "colab": {
      "name": "Programming_Basic_Assignment 14.ipynb",
      "provenance": [],
      "collapsed_sections": []
    },
    "kernelspec": {
      "name": "python3",
      "display_name": "Python 3"
    },
    "language_info": {
      "name": "python"
    }
  },
  "cells": [
    {
      "cell_type": "markdown",
      "source": [
        "**Programming_Basic_Assignment 14**"
      ],
      "metadata": {
        "id": "03HTPhHpWBf2"
      }
    },
    {
      "cell_type": "markdown",
      "source": [
        "Question 1: Define a class with a generator which can iterate the numbers, which are divisible by 7, between a given range 0 and n.\n",
        "\n"
      ],
      "metadata": {
        "id": "FIkvSwPlWBOm"
      }
    },
    {
      "cell_type": "code",
      "source": [
        "class task:\n",
        "  def gen(self,n):\n",
        "    for i in range(n):\n",
        "      if i % 7 == 0:\n",
        "        yield i"
      ],
      "metadata": {
        "id": "qoYYypXJH7aT"
      },
      "execution_count": 4,
      "outputs": []
    },
    {
      "cell_type": "code",
      "source": [
        "num=task()"
      ],
      "metadata": {
        "id": "0umwTzIOIrxF"
      },
      "execution_count": 5,
      "outputs": []
    },
    {
      "cell_type": "code",
      "source": [
        "[i for i in num.gen(100)]"
      ],
      "metadata": {
        "colab": {
          "base_uri": "https://localhost:8080/"
        },
        "id": "qphiJyf8IwGd",
        "outputId": "6f19442a-cb20-429e-baf8-e9291e382847"
      },
      "execution_count": 8,
      "outputs": [
        {
          "output_type": "execute_result",
          "data": {
            "text/plain": [
              "[0, 7, 14, 21, 28, 35, 42, 49, 56, 63, 70, 77, 84, 91, 98]"
            ]
          },
          "metadata": {},
          "execution_count": 8
        }
      ]
    },
    {
      "cell_type": "markdown",
      "source": [
        "Question 2: Write a program to compute the frequency of the words from the input. The output should output after sorting the key alphanumerically. \n",
        "\n",
        "Suppose the following input is supplied to the program:\n",
        "\n",
        "New to Python or choosing between Python 2 and Python 3? Read Python 2 or Python 3.\n",
        "\n",
        "Then, the output should be:\n",
        "\n",
        "2:2\n",
        "\n",
        "3.:1\n",
        "\n",
        "3?:1\n",
        "\n",
        "New:1\n",
        "\n",
        "Python:5\n",
        "\n",
        "Read:1\n",
        "\n",
        "and:1\n",
        "\n",
        "between:1\n",
        "\n",
        "choosing:1\n",
        "\n",
        "or:2\n",
        "\n",
        "to:1"
      ],
      "metadata": {
        "id": "R6HYxnBWH43x"
      }
    },
    {
      "cell_type": "code",
      "source": [
        "def wordtask1(s:str):\n",
        "  output={}\n",
        "  for word in s.split(' '):\n",
        "    if word in output.keys():\n",
        "      output[word] += 1\n",
        "    else:\n",
        "      output[word] = 1\n",
        "\n",
        "  for k, v in sorted(output.items()):\n",
        "    print(k, ':', v)\n",
        "    \n",
        "s=\"New to Python or choosing between Python 2 and Python 3? Read Python 2 or Python 3\"\n",
        "\n",
        "wordtask1(s)"
      ],
      "metadata": {
        "colab": {
          "base_uri": "https://localhost:8080/"
        },
        "id": "TdhY5w6ZJFYm",
        "outputId": "f5416cf2-80cf-4277-8c3b-8e43b62a7af0"
      },
      "execution_count": 15,
      "outputs": [
        {
          "output_type": "stream",
          "name": "stdout",
          "text": [
            "2 : 2\n",
            "3 : 1\n",
            "3? : 1\n",
            "New : 1\n",
            "Python : 5\n",
            "Read : 1\n",
            "and : 1\n",
            "between : 1\n",
            "choosing : 1\n",
            "or : 2\n",
            "to : 1\n"
          ]
        }
      ]
    },
    {
      "cell_type": "markdown",
      "source": [
        "Question 3: Define a class Person and its two child classes: Male and Female. All classes have a method \"getGender\" which can print \"Male\" for Male class and \"Female\" for Female class."
      ],
      "metadata": {
        "id": "jOm5Dy1rHxZP"
      }
    },
    {
      "cell_type": "code",
      "source": [
        "class person:\n",
        "  def getgender(self):\n",
        "    pass\n",
        "\n",
        "class male(person):\n",
        "    def getgender(self):\n",
        "      print(\"male\")\n",
        "\n",
        "class female(person):\n",
        "  def getgender(self):\n",
        "      print(\"female\")"
      ],
      "metadata": {
        "id": "VNvlYdVNOw_K"
      },
      "execution_count": 16,
      "outputs": []
    },
    {
      "cell_type": "code",
      "source": [
        "m = male()\n",
        "f = female()\n",
        "m.getgender()\n",
        "f.getgender()"
      ],
      "metadata": {
        "colab": {
          "base_uri": "https://localhost:8080/"
        },
        "id": "Ifo2OYR0PSzp",
        "outputId": "08dd46a8-c56c-4ce1-c950-d452fec33c06"
      },
      "execution_count": 19,
      "outputs": [
        {
          "output_type": "stream",
          "name": "stdout",
          "text": [
            "male\n",
            "female\n"
          ]
        }
      ]
    },
    {
      "cell_type": "markdown",
      "source": [
        "Question 4: Please write a program to generate all sentences where subject is in [\"I\", \"You\"] and verb is in [\"Play\", \"Love\"] and the object is in [\"Hockey\",\"Football\"]."
      ],
      "metadata": {
        "id": "Ts1jMYeoHvpo"
      }
    },
    {
      "cell_type": "code",
      "source": [
        "subject=[\"I\", \"You\"]\n",
        "verb=[\"Play\", \"Love\"]\n",
        "obj=[\"Hockey\",\"Football\"]\n",
        "\n",
        "sentence_list = []\n",
        "\n",
        "for i in subject:\n",
        "    for j in verb:\n",
        "        for k in obj:\n",
        "            sentence_list.append(i + \" \" + j + \" \" + k)\n",
        "            \n",
        "for sentence in sentence_list:\n",
        "    print(sentence)"
      ],
      "metadata": {
        "colab": {
          "base_uri": "https://localhost:8080/"
        },
        "id": "O2Nb3F6MPpKT",
        "outputId": "2dc2bb3a-0047-4caf-ec01-6f58f27ff403"
      },
      "execution_count": 21,
      "outputs": [
        {
          "output_type": "stream",
          "name": "stdout",
          "text": [
            "I Play Hockey\n",
            "I Play Football\n",
            "I Love Hockey\n",
            "I Love Football\n",
            "You Play Hockey\n",
            "You Play Football\n",
            "You Love Hockey\n",
            "You Love Football\n"
          ]
        }
      ]
    },
    {
      "cell_type": "markdown",
      "source": [
        "Question 5: Please write a program to compress and decompress the string \"hello world!hello world!hello world!hello world!\"."
      ],
      "metadata": {
        "id": "nxDTc1B2HrYi"
      }
    },
    {
      "cell_type": "code",
      "source": [
        "import zlib\n",
        "\n",
        "string = 'hello world!hello world!hello world!hello world!'\n",
        "\n",
        "compress_string = zlib.compress(bytes(s, 'utf-8'))\n",
        "\n",
        "print(f\"Compressed string is: {compress_string}\")\n",
        "print(f\"Decompressed string is: {zlib.decompress(compress_string)}\")"
      ],
      "metadata": {
        "colab": {
          "base_uri": "https://localhost:8080/"
        },
        "id": "DXuhwvvjPriC",
        "outputId": "18d14f95-ce28-478a-8b2a-4167d2fb95cc"
      },
      "execution_count": 20,
      "outputs": [
        {
          "output_type": "stream",
          "name": "stdout",
          "text": [
            "Compressed string is: b'x\\x9c\\xf3K-W(\\xc9W\\x08\\xa8,\\xc9\\xc8\\xcfS\\xc8/RH\\xce\\xc8\\xcf/\\xce\\xccKWHJ-)OM\\xcd\\x83I\\x19)$\\xe6\\xa5\\xc08\\xc6\\xf6\\nA\\xa9\\x89)\\x089\\xa0F\\x98\\x14\\x00\\xb8\\x18\\x1cV'\n",
            "Decompressed string is: b'New to Python or choosing between Python 2 and Python 3? Read Python 2 or Python 3'\n"
          ]
        }
      ]
    },
    {
      "cell_type": "markdown",
      "source": [
        "Question 6: Please write a binary search function which searches an item in a sorted list. The function should return the index of element to be searched in the list."
      ],
      "metadata": {
        "id": "_dVtAC6wHjoP"
      }
    },
    {
      "cell_type": "code",
      "execution_count": 1,
      "metadata": {
        "id": "elCNP241V77H"
      },
      "outputs": [],
      "source": [
        "def binarySearch(list1, n):  \n",
        "    \n",
        "    \n",
        "    low = 0  \n",
        "    high = len(list1) - 1  \n",
        "    mid = 0  \n",
        "  \n",
        "    while low <= high:  \n",
        "        mid = (high + low) // 2  \n",
        "        if list1[mid] < n:  \n",
        "            low = mid + 1  \n",
        "        elif list1[mid] > n:  \n",
        "            high = mid - 1  \n",
        "        else:  \n",
        "            return mid  \n",
        "    return -1"
      ]
    },
    {
      "cell_type": "code",
      "source": [
        "sorted_list = [1, 4, 5, 12, 54, 678, 1235]\n",
        "\n",
        "binarySearch(sorted_list, 54)"
      ],
      "metadata": {
        "colab": {
          "base_uri": "https://localhost:8080/"
        },
        "id": "BDmgQUbqHWXz",
        "outputId": "0cfc2d7d-076e-422b-906c-93822ae98676"
      },
      "execution_count": 2,
      "outputs": [
        {
          "output_type": "execute_result",
          "data": {
            "text/plain": [
              "4"
            ]
          },
          "metadata": {},
          "execution_count": 2
        }
      ]
    }
  ]
}