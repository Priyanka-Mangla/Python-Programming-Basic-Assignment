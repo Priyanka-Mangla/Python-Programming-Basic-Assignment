{
  "nbformat": 4,
  "nbformat_minor": 0,
  "metadata": {
    "colab": {
      "name": "Python Programming Basic Assignment 8.ipynb",
      "provenance": [],
      "collapsed_sections": []
    },
    "kernelspec": {
      "name": "python3",
      "display_name": "Python 3"
    },
    "language_info": {
      "name": "python"
    }
  },
  "cells": [
    {
      "cell_type": "markdown",
      "source": [
        "**Python Programming Basic Assignment 7**"
      ],
      "metadata": {
        "id": "WSZq_AoOPbAo"
      }
    },
    {
      "cell_type": "markdown",
      "source": [
        "1. Write a Python Program to Add Two Matrices?\n",
        "\n"
      ],
      "metadata": {
        "id": "lXMA-tblO4uJ"
      }
    },
    {
      "cell_type": "code",
      "source": [
        "m1 = [[1,2,3], \n",
        "      [4,5,6], \n",
        "      [7,8,9]]\n",
        "\n",
        "m2 = [[1,1,1], \n",
        "      [1,1,1], \n",
        "      [1,1,1]]\n",
        "\n",
        "sum = [[0,0,0], \n",
        "       [0,0,0], \n",
        "       [0,0,0]]"
      ],
      "metadata": {
        "id": "9PNco--u0m_M"
      },
      "execution_count": null,
      "outputs": []
    },
    {
      "cell_type": "code",
      "source": [
        "for i in range(len(m1)):\n",
        "  for j in range(len(m1[0])):\n",
        "    sum[i][j] = m1[i][j] + m2[i][j]\n",
        "\n",
        "for add in sum:\n",
        "  print(add)"
      ],
      "metadata": {
        "colab": {
          "base_uri": "https://localhost:8080/"
        },
        "id": "4XF6fHLr1bcW",
        "outputId": "0b1e48d8-be1e-492d-bc14-f64c3bf94469"
      },
      "execution_count": null,
      "outputs": [
        {
          "output_type": "stream",
          "name": "stdout",
          "text": [
            "[2, 3, 4]\n",
            "[5, 6, 7]\n",
            "[8, 9, 10]\n"
          ]
        }
      ]
    },
    {
      "cell_type": "markdown",
      "source": [
        "2. Write a Python Program to Multiply Two Matrices?\n"
      ],
      "metadata": {
        "id": "jd9_p5KVPEgL"
      }
    },
    {
      "cell_type": "code",
      "source": [
        "A = [[1, 2, 3],  \n",
        "     [4, 5, 6],  \n",
        "     [7, 8, 9]]    \n",
        "B = [[1, 2, 3],  \n",
        "     [4, 5, 6],  \n",
        "     [7, 8, 9]]   \n",
        "     \n",
        "result = [[0, 0, 0],    \n",
        "          [0, 0, 0],    \n",
        "          [0, 0, 0]]  \n",
        "\n",
        "for i in range(len(A)):    \n",
        "   for j in range(len(B[0])):    \n",
        "          for k in range(len(B)):    \n",
        "               result[i][j] += A[i][k] * B[k][j] \n",
        "\n",
        "for r in result:    \n",
        "   print(r)"
      ],
      "metadata": {
        "colab": {
          "base_uri": "https://localhost:8080/"
        },
        "id": "y0lm5G6R27Wy",
        "outputId": "800cb6a2-58e9-40f6-a232-222a08d60195"
      },
      "execution_count": null,
      "outputs": [
        {
          "output_type": "stream",
          "name": "stdout",
          "text": [
            "[30, 36, 42]\n",
            "[66, 81, 96]\n",
            "[102, 126, 150]\n"
          ]
        }
      ]
    },
    {
      "cell_type": "markdown",
      "source": [
        "3. Write a Python Program to Transpose a Matrix?\n"
      ],
      "metadata": {
        "id": "fQAQm3ggPEsa"
      }
    },
    {
      "cell_type": "code",
      "source": [
        "m1 = [[1,2,3], \n",
        "      [4,5,6], \n",
        "      [7,8,9]]\n",
        "for i in range(len(m1)):\n",
        "  for j in range(len(m1[0])):\n",
        "    trns[i][j]= m1[j][i]\n",
        "for p in trns:\n",
        "  print(p)\n"
      ],
      "metadata": {
        "colab": {
          "base_uri": "https://localhost:8080/"
        },
        "id": "e6rF5297CFOG",
        "outputId": "b868ac98-5a87-40bb-d3cb-2fbc91eb1e9e"
      },
      "execution_count": null,
      "outputs": [
        {
          "output_type": "stream",
          "name": "stdout",
          "text": [
            "[1, 4, 7]\n",
            "[2, 5, 8]\n",
            "[3, 6, 9]\n"
          ]
        }
      ]
    },
    {
      "cell_type": "code",
      "source": [
        "#using function\n",
        "def matrix(A, trns):\n",
        "  for i in range(len(A)):\n",
        "    for j in range(len(A[0])):\n",
        "      trns[i][j]= A[j][i]\n",
        "  return trns\n",
        "\n",
        "A = [[30, 36, 42], \n",
        "     [66, 81, 96], \n",
        "     [12, 26, 50]]\n",
        "\n",
        "print(\"transpose of A\", trns )\n"
      ],
      "metadata": {
        "colab": {
          "base_uri": "https://localhost:8080/"
        },
        "id": "wC_bR4ChHpdi",
        "outputId": "728a7e9d-76f6-4188-c45b-c6166c533f08"
      },
      "execution_count": null,
      "outputs": [
        {
          "output_type": "stream",
          "name": "stdout",
          "text": [
            "transpose of A [[30, 66, 12], [36, 81, 26], [42, 96, 50]]\n"
          ]
        }
      ]
    },
    {
      "cell_type": "markdown",
      "source": [
        "4. Write a Python Program to Sort Words in Alphabetic Order?\n"
      ],
      "metadata": {
        "id": "3F7_67ZBPFAu"
      }
    },
    {
      "cell_type": "code",
      "source": [
        "def srt(s):\n",
        "  words = s.split(\" \")\n",
        "  \n",
        "  for i in range(len(words)):\n",
        "    words[i] = words[i].lower()\n",
        "    s = sorted(words)\n",
        "  print(' '.join(s))\n",
        "    \n",
        "s = input(\"enter string\")\n",
        "\n",
        "srt(s)\n"
      ],
      "metadata": {
        "colab": {
          "base_uri": "https://localhost:8080/"
        },
        "id": "BkZaQiEkpVFJ",
        "outputId": "efb4f174-7618-4465-d688-3fa2550ca665"
      },
      "execution_count": 18,
      "outputs": [
        {
          "output_type": "stream",
          "name": "stdout",
          "text": [
            "enter stringmy name is bittoo\n",
            "bittoo is my name\n"
          ]
        }
      ]
    },
    {
      "cell_type": "markdown",
      "source": [
        "5. Write a Python Program to Remove Punctuation From a String?"
      ],
      "metadata": {
        "id": "gsLs7_FlPFOX"
      }
    },
    {
      "cell_type": "code",
      "execution_count": 35,
      "metadata": {
        "id": "QHh_jCR8O2ol",
        "colab": {
          "base_uri": "https://localhost:8080/"
        },
        "outputId": "1175704b-825d-4731-91ed-a2681a117455"
      },
      "outputs": [
        {
          "output_type": "stream",
          "name": "stdout",
          "text": [
            "string With Punctuation\n"
          ]
        }
      ],
      "source": [
        "s = \"string. With. Punctuation?\"\n",
        "out = re.sub(r'[^\\w\\s]','',s)\n",
        "print(out)"
      ]
    },
    {
      "cell_type": "markdown",
      "source": [
        "another way by using function"
      ],
      "metadata": {
        "id": "XGKONPdQzaV5"
      }
    },
    {
      "cell_type": "code",
      "source": [
        "def rmv_p(s):\n",
        "  out = re.sub(r'[^\\w\\s]','',s)\n",
        "  print(out)\n",
        "\n",
        "s = \"hello ?? my -- name ** is %% bittoo ..\"\n",
        "rmv_p(s)\n"
      ],
      "metadata": {
        "colab": {
          "base_uri": "https://localhost:8080/"
        },
        "id": "Mqw9nHkYtHK-",
        "outputId": "8a013030-7092-4ab5-f34f-46c6715c9ef4"
      },
      "execution_count": 36,
      "outputs": [
        {
          "output_type": "stream",
          "name": "stdout",
          "text": [
            "hello  my  name  is  bittoo \n"
          ]
        }
      ]
    }
  ]
}