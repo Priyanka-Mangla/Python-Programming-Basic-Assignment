{
  "nbformat": 4,
  "nbformat_minor": 0,
  "metadata": {
    "colab": {
      "name": "Programming_Basic_Assingment 13.ipynb",
      "provenance": [],
      "collapsed_sections": []
    },
    "kernelspec": {
      "name": "python3",
      "display_name": "Python 3"
    },
    "language_info": {
      "name": "python"
    }
  },
  "cells": [
    {
      "cell_type": "markdown",
      "source": [
        "**Programming_Basic_Assingment 13**"
      ],
      "metadata": {
        "id": "fWYDgtkUBT1P"
      }
    },
    {
      "cell_type": "markdown",
      "source": [
        "Question 1: Write a program that calculates and prints the value according to the given formula:\n",
        "\n",
        "Q = Square root of [(2 * C * D)/H]\n",
        "\n",
        "Following are the fixed values of C and H: C is 50. H is 30.\n",
        "\n",
        "D is the variable whose values should be input to your program in a comma-separated sequence.\n",
        "\n",
        "Example : Let us assume the following comma separated input sequence is given to the program: 100,150,180\n",
        "\n",
        "The output of the program should be: 18,22,24\n"
      ],
      "metadata": {
        "id": "GzyGKByuBYmO"
      }
    },
    {
      "cell_type": "code",
      "source": [
        "import math\n",
        "C = 50\n",
        "H = 30\n",
        "\n",
        "numbers = input(\"Provide D: \")\n",
        "numbers = numbers.split(',')\n",
        "\n",
        "result_list = []\n",
        "for D in numbers:\n",
        "    Q = round(math.sqrt(2 * C * int(D) / H))\n",
        "    result_list.append(Q)\n",
        "\n",
        "print(result_list)"
      ],
      "metadata": {
        "colab": {
          "base_uri": "https://localhost:8080/"
        },
        "id": "UVPx6F3I8NGE",
        "outputId": "1938d032-d094-4bb2-91c1-3c03fc0d44e0"
      },
      "execution_count": 2,
      "outputs": [
        {
          "output_type": "stream",
          "name": "stdout",
          "text": [
            "Provide D: 100,150,180\n",
            "[18, 22, 24]\n"
          ]
        }
      ]
    },
    {
      "cell_type": "markdown",
      "source": [
        "Question 2: Write a program which takes 2 digits, X,Y as input and generates a 2-dimensional array. The element value in the i-th row and j-th column of the array should be i*j.\n",
        "\n",
        "Note: i=0,1.., X-1; j=0,1,¡Y-1.\n",
        "\n",
        "Example: Suppose the following inputs are given to the program: 3,5\n",
        "\n",
        "Then, the output of the program should be:\n",
        "\n",
        "[[0, 0, 0, 0, 0], [0, 1, 2, 3, 4], [0, 2, 4, 6, 8]] \n",
        "\n"
      ],
      "metadata": {
        "id": "S8iKkRdy7GdY"
      }
    },
    {
      "cell_type": "code",
      "source": [
        "import numpy as np\n",
        "\n",
        "np.fromfunction(lambda i, j : i*j, (3,5), dtype=int)\n"
      ],
      "metadata": {
        "colab": {
          "base_uri": "https://localhost:8080/"
        },
        "id": "-A4Na5KY_Kj3",
        "outputId": "6216aff0-7e84-4ff0-b5bc-e6a70dd9e9e5"
      },
      "execution_count": 4,
      "outputs": [
        {
          "output_type": "execute_result",
          "data": {
            "text/plain": [
              "array([[0, 0, 0, 0, 0],\n",
              "       [0, 1, 2, 3, 4],\n",
              "       [0, 2, 4, 6, 8]])"
            ]
          },
          "metadata": {},
          "execution_count": 4
        }
      ]
    },
    {
      "cell_type": "code",
      "source": [
        "# another way\n",
        "#from __future__ import print_function\n",
        "user_input = input(\"Enter values for row and column number: \")\n",
        "rows, cols = user_input.split(\",\")\n",
        "rows = int(rows)\n",
        "cols = int(cols)\n",
        "\n",
        "grid = []\n",
        "for x in range(rows):\n",
        "    row = []\n",
        "    for y in range(cols):\n",
        "        row.append(x * y)\n",
        "    grid.append(row)\n",
        "    print(row)\n",
        "\n",
        "print()\n",
        "print(grid)"
      ],
      "metadata": {
        "colab": {
          "base_uri": "https://localhost:8080/"
        },
        "id": "ILQ6778qAHOC",
        "outputId": "5e864530-cfc2-406f-ee98-08a1bef4ab83"
      },
      "execution_count": 10,
      "outputs": [
        {
          "output_type": "stream",
          "name": "stdout",
          "text": [
            "Enter values for row and column number: 3,5\n",
            "[0, 0, 0, 0, 0]\n",
            "[0, 1, 2, 3, 4]\n",
            "[0, 2, 4, 6, 8]\n",
            "\n",
            "[[0, 0, 0, 0, 0], [0, 1, 2, 3, 4], [0, 2, 4, 6, 8]]\n"
          ]
        }
      ]
    },
    {
      "cell_type": "markdown",
      "source": [
        "Question 3: Write a program that accepts a comma separated sequence of words as input and prints the words in a comma-separated sequence after sorting them alphabetically.\n",
        "\n",
        "Suppose the following input is supplied to the program: without,hello,bag,world\n",
        "\n",
        "Then, the output should be: bag,hello,without,world\n"
      ],
      "metadata": {
        "id": "4v8i-EEv8Asg"
      }
    },
    {
      "cell_type": "code",
      "source": [
        "s = input(\"enter words : \")\n",
        "s1 = s.split(',')\n",
        "print()\n",
        "print(sorted(s1))"
      ],
      "metadata": {
        "colab": {
          "base_uri": "https://localhost:8080/"
        },
        "id": "fjvfhT5ZAGQ4",
        "outputId": "765eb706-adae-470b-fc66-ab10486d3d13"
      },
      "execution_count": 38,
      "outputs": [
        {
          "output_type": "stream",
          "name": "stdout",
          "text": [
            "enter words : without,hello,bag,world\n",
            "\n",
            "['bag', 'hello', 'without', 'world']\n"
          ]
        }
      ]
    },
    {
      "cell_type": "markdown",
      "source": [
        "\n",
        "Question 4: Write a program that accepts a sequence of whitespace separated words as input and prints the words after removing all duplicate words and sorting them alphanumerically.\n",
        "\n",
        "Suppose the following input is supplied to the program: hello world and practice makes perfect and hello world again\n",
        "\n",
        "Then, the output should be: again and hello makes perfect practice world\n"
      ],
      "metadata": {
        "id": "nXIYmJFX8C3_"
      }
    },
    {
      "cell_type": "code",
      "source": [
        "s = \"hello world and practice makes perfect and hello world again\"\n",
        "s1 = s.split()\n",
        "s1 = sorted(s1)\n",
        "l = []\n",
        "for i in s1:\n",
        "  if i not in l:\n",
        "    l.append(i)\n",
        "print(l)"
      ],
      "metadata": {
        "colab": {
          "base_uri": "https://localhost:8080/"
        },
        "id": "Fruotg50Cr5H",
        "outputId": "2caebbff-e9ef-438b-f2c8-376fbf8c1d31"
      },
      "execution_count": 18,
      "outputs": [
        {
          "output_type": "stream",
          "name": "stdout",
          "text": [
            "['again', 'and', 'hello', 'makes', 'perfect', 'practice', 'world']\n"
          ]
        }
      ]
    },
    {
      "cell_type": "markdown",
      "source": [
        "\n",
        "Question 5: Write a program that accepts a sentence and calculate the number of letters and digits.\n",
        "\n",
        "Suppose the following input is supplied to the program: hello world! 123\n",
        "\n",
        "Then, the output should be: \n",
        "\n",
        "LETTERS 10\n",
        "\n",
        "DIGITS 3\n"
      ],
      "metadata": {
        "id": "MhrGzuR18EzL"
      }
    },
    {
      "cell_type": "code",
      "source": [
        "s = \"hello world! 123\"\n",
        "letters = 0\n",
        "digits = 0\n",
        "for i in range(0,len(s)):\n",
        "  if s[i].isalpha():\n",
        "    letters = letters + 1\n",
        "  elif s[i].isdigit():\n",
        "    digits = digits + 1\n",
        "  \n",
        "print(\"Letters : \", letters)\n",
        "print(\"Digits : \", digits)"
      ],
      "metadata": {
        "colab": {
          "base_uri": "https://localhost:8080/"
        },
        "id": "bUgKAMrwEiYM",
        "outputId": "99fcbd87-ee46-4ee4-9d90-47904a9aec63"
      },
      "execution_count": 31,
      "outputs": [
        {
          "output_type": "stream",
          "name": "stdout",
          "text": [
            "Letters :  10\n",
            "Digits :  3\n"
          ]
        }
      ]
    },
    {
      "cell_type": "markdown",
      "source": [
        "Question 6: A website requires the users to input username and password to register. Write a program to check the validity of password input by users.\n",
        "\n",
        "Following are the criteria for checking the password:\n",
        "1. At least 1 letter between [a-z]\n",
        "2. At least 1 number between [0-9]\n",
        "1. At least 1 letter between [A-Z]\n",
        "3. At least 1 character from [$#@]\n",
        "4. Minimum length of transaction password: 6\n",
        "5. Maximum length of transaction password: 12\n",
        "\n",
        "Your program should accept a sequence of comma separated passwords and will check them according to the above criteria. Passwords that match the criteria are to be printed, each separated by a comma.\n",
        "\n",
        "Example: If the following passwords are given as input to the program:\n",
        "\n",
        "ABd1234@1,a F1#,2w3E*,2We3345\n",
        "\n",
        "Then, the output of the program should be: ABd1234@1"
      ],
      "metadata": {
        "id": "cyFqbyQy8GXC"
      }
    },
    {
      "cell_type": "code",
      "source": [
        "import re\n",
        "\n",
        "passwords = input(\"Type in: \")\n",
        "passwords = passwords.split(\",\")\n",
        "\n",
        "accepted_pass = []\n",
        "for i in passwords:\n",
        "    \n",
        "    if len(i) < 6 or len(i) > 12:\n",
        "        continue\n",
        "\n",
        "    elif not re.search(\"([a-z])+\", i):\n",
        "        continue\n",
        "\n",
        "    elif not re.search(\"([A-Z])+\", i):\n",
        "        continue\n",
        "\n",
        "    elif not re.search(\"([0-9])+\", i):\n",
        "        continue\n",
        "\n",
        "    elif not re.search(\"([!@$%^&])+\", i):\n",
        "        continue\n",
        "\n",
        "    else:\n",
        "        accepted_pass.append(i)\n",
        "\n",
        "print((\" \").join(accepted_pass))"
      ],
      "metadata": {
        "colab": {
          "base_uri": "https://localhost:8080/"
        },
        "id": "UJw4g46HIxzT",
        "outputId": "55885ff5-8d6b-4761-f311-722de10180fa"
      },
      "execution_count": 39,
      "outputs": [
        {
          "output_type": "stream",
          "name": "stdout",
          "text": [
            "Type in: ABd1234@1,a F1#,2w3E*,2We3345\n",
            "ABd1234@1\n"
          ]
        }
      ]
    }
  ]
}