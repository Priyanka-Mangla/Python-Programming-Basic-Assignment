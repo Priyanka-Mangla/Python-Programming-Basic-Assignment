{
  "nbformat": 4,
  "nbformat_minor": 0,
  "metadata": {
    "colab": {
      "name": "Python Programming Basic Assignment 4.ipynb",
      "provenance": []
    },
    "kernelspec": {
      "name": "python3",
      "display_name": "Python 3"
    },
    "language_info": {
      "name": "python"
    }
  },
  "cells": [
    {
      "cell_type": "markdown",
      "source": [
        "**Python Programming Basic Assignment 4**"
      ],
      "metadata": {
        "id": "EE_Izp1pV7Ex"
      }
    },
    {
      "cell_type": "markdown",
      "source": [
        "1. Write a Python Program to Find the Factorial of a Number?\n"
      ],
      "metadata": {
        "id": "lN1Gwpx1V7S4"
      }
    },
    {
      "cell_type": "code",
      "source": [
        "num = 5\n",
        "factorial_num = 1\n",
        "for i in range (1,num+1):\n",
        "  factorial_num = factorial_num * i\n",
        "\n",
        "print(factorial_num)"
      ],
      "metadata": {
        "colab": {
          "base_uri": "https://localhost:8080/"
        },
        "id": "oqv0Jss8WRkA",
        "outputId": "3899bd3b-9bd0-4da2-dcbb-f25f06792afc"
      },
      "execution_count": 4,
      "outputs": [
        {
          "output_type": "stream",
          "name": "stdout",
          "text": [
            "120\n"
          ]
        }
      ]
    },
    {
      "cell_type": "markdown",
      "source": [
        "2. Write a Python Program to Display the multiplication Table?\n"
      ],
      "metadata": {
        "id": "jk31simZWEV5"
      }
    },
    {
      "cell_type": "code",
      "source": [
        "Table_of_num = int(input(\"number\"))\n",
        "\n",
        "Table_of_number = []\n",
        "\n",
        "for i in range (1,11):\n",
        "  a = Table_of_num * i\n",
        "\n",
        "  Table_of_number.append(a)\n",
        "\n",
        "print(Table_of_number)"
      ],
      "metadata": {
        "colab": {
          "base_uri": "https://localhost:8080/"
        },
        "id": "JQBxTalRo2jb",
        "outputId": "221d095a-d3db-4c64-b498-b48ffa9ac7ca"
      },
      "execution_count": 9,
      "outputs": [
        {
          "output_type": "stream",
          "name": "stdout",
          "text": [
            "number5\n",
            "[5, 10, 15, 20, 25, 30, 35, 40, 45, 50]\n"
          ]
        }
      ]
    },
    {
      "cell_type": "markdown",
      "source": [
        "3. Write a Python Program to Print the Fibonacci sequence?\n"
      ],
      "metadata": {
        "id": "ez-2476HWE1Z"
      }
    },
    {
      "cell_type": "code",
      "source": [
        "# number is the sum of perious two numbers\n",
        "\n",
        "def fibonacci(n):\n",
        "  a = 0\n",
        "  b = 1\n",
        "\n",
        "  if n < 0:\n",
        "    print(\"incorrect input\")\n",
        "  elif n == 1:\n",
        "    return b\n",
        "\n",
        "  else:\n",
        "    for i in range(1,n):\n",
        "      c = a+b\n",
        "      a = b\n",
        "      b = c\n",
        "\n",
        "    return b\n",
        "  \n",
        "print(fibonacci(4))\n",
        "\n"
      ],
      "metadata": {
        "colab": {
          "base_uri": "https://localhost:8080/"
        },
        "id": "7Nbzw18PrnZK",
        "outputId": "82d05dbc-b96e-44a0-e6b9-952ce222ce67"
      },
      "execution_count": 16,
      "outputs": [
        {
          "output_type": "stream",
          "name": "stdout",
          "text": [
            "3\n"
          ]
        }
      ]
    },
    {
      "cell_type": "markdown",
      "source": [
        "4. Write a Python Program to Check Armstrong Number?\n"
      ],
      "metadata": {
        "id": "MXjosyNTWFBs"
      }
    },
    {
      "cell_type": "code",
      "source": [
        "num = input(\"number\")\n",
        "l=len(num)\n",
        "x=0\n",
        "sum=0\n",
        "\n",
        "c = int(num)\n",
        "\n",
        "for i in range(0, l):\n",
        "  x = int(num[i])\n",
        "  sum = sum + x**l\n",
        "\n",
        "if sum == c:\n",
        "  print(\"armstrong\")\n",
        "\n",
        "else:\n",
        "  print(\"not armstrong\")"
      ],
      "metadata": {
        "colab": {
          "base_uri": "https://localhost:8080/"
        },
        "id": "gYB41JeVvDD9",
        "outputId": "d112beca-2a98-4747-858e-db2f7192cf25"
      },
      "execution_count": 29,
      "outputs": [
        {
          "output_type": "stream",
          "name": "stdout",
          "text": [
            "number153\n",
            "armstrong\n"
          ]
        }
      ]
    },
    {
      "cell_type": "markdown",
      "source": [
        "5. Write a Python Program to Find Armstrong Number in an Interval?\n"
      ],
      "metadata": {
        "id": "3tisgks5WFOh"
      }
    },
    {
      "cell_type": "code",
      "source": [
        "# % --> get the remainder\n",
        "# // --> get the quotient\n",
        "\n",
        "for num in range(100,1000):\n",
        "  temp=num\n",
        "  sum=0\n",
        "  while temp>0:\n",
        "      digit=temp%10\n",
        "      sum=sum+digit**3\n",
        "      temp=temp//10\n",
        "      if sum==num:\n",
        "           print (num)"
      ],
      "metadata": {
        "colab": {
          "base_uri": "https://localhost:8080/"
        },
        "id": "fzAXVvXH2D0K",
        "outputId": "9d6feecc-7731-48ef-89c2-bd929f5deed3"
      },
      "execution_count": 38,
      "outputs": [
        {
          "output_type": "stream",
          "name": "stdout",
          "text": [
            "125\n",
            "153\n",
            "216\n",
            "370\n",
            "371\n",
            "407\n",
            "729\n"
          ]
        }
      ]
    },
    {
      "cell_type": "markdown",
      "source": [
        "6. Write a Python Program to Find the Sum of Natural Numbers?"
      ],
      "metadata": {
        "id": "6PK6ro1oWFcm"
      }
    },
    {
      "cell_type": "code",
      "source": [
        "# sum of n natural numbers = n/2(2a+(n-1)d)  or n(n+1)/2\n",
        "\n",
        "# sum of the natural numbers from 1 to 100\n",
        "\n",
        "a = 1\n",
        "n = 100\n",
        "d = 1\n",
        "\n",
        "sum = n/2 * (2*a + (n-1) * d)\n",
        "\n",
        "print(sum)"
      ],
      "metadata": {
        "colab": {
          "base_uri": "https://localhost:8080/"
        },
        "id": "7-uXaeSs7x39",
        "outputId": "21b3ae9b-2a97-4b0a-e4b1-e6321db86dde"
      },
      "execution_count": 41,
      "outputs": [
        {
          "output_type": "stream",
          "name": "stdout",
          "text": [
            "5050.0\n"
          ]
        }
      ]
    },
    {
      "cell_type": "code",
      "source": [
        "# another way\n",
        "\n",
        "num = int(input(\"Enter the value of n: \"))\n",
        "\n",
        "hold = num\n",
        "sum = 0\n",
        "\n",
        "if num<=0:\n",
        "  print(\"enter positive input\")\n",
        "\n",
        "else:\n",
        "  while num>0:\n",
        "    sum = sum + num\n",
        "    num = num - 1\n",
        "\n",
        "  print(\"sum of\", hold, \"natural no is\", sum)\n"
      ],
      "metadata": {
        "colab": {
          "base_uri": "https://localhost:8080/"
        },
        "id": "rch5u2hD8kcw",
        "outputId": "fba56076-aaf0-45f0-c9fb-22c365147a22"
      },
      "execution_count": 43,
      "outputs": [
        {
          "output_type": "stream",
          "name": "stdout",
          "text": [
            "Enter the value of n: 100\n",
            "sum of 100 natural no is 5050\n"
          ]
        }
      ]
    }
  ]
}