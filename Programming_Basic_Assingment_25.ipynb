{
  "nbformat": 4,
  "nbformat_minor": 0,
  "metadata": {
    "colab": {
      "name": "Programming_Basic_Assingment 25.ipynb",
      "provenance": [],
      "collapsed_sections": []
    },
    "kernelspec": {
      "name": "python3",
      "display_name": "Python 3"
    },
    "language_info": {
      "name": "python"
    }
  },
  "cells": [
    {
      "cell_type": "markdown",
      "source": [
        "**Programming_Basic_Assingment 25**"
      ],
      "metadata": {
        "id": "_IjmFFTECNVr"
      }
    },
    {
      "cell_type": "markdown",
      "source": [
        "Question1\n",
        "Create a function that takes three integer arguments (a, b, c) and returns the amount of integers which are of equal value.\n",
        "\n",
        "Examples\n",
        "\n",
        "equal(3, 4, 3) ➞ 2\n",
        "\n",
        "equal(1, 1, 1) ➞ 3\n",
        "\n",
        "equal(3, 4, 1) ➞ 0 \n",
        "\n",
        "Notes\n",
        "\n",
        "Your function must return 0, 2 or 3.\n",
        "\n"
      ],
      "metadata": {
        "id": "Iq8v_iXEB2Dn"
      }
    },
    {
      "cell_type": "code",
      "source": [
        "def equal_int(a,b,c):\n",
        "  if a==b==c:\n",
        "    print(\"all r equal var: 3\")\n",
        "  elif a==b or b==c or c==a:\n",
        "    print(\"2 var r equal\")\n",
        "  else:\n",
        "    print(\"none r equal to each other\")\n",
        "\n",
        "a1 = int(input())\n",
        "b1 = int(input())\n",
        "c1 = int(input())\n",
        "\n",
        "equal_int(a1, b1, c1)"
      ],
      "metadata": {
        "colab": {
          "base_uri": "https://localhost:8080/"
        },
        "id": "c2hrszhKQCY5",
        "outputId": "24661a7f-7145-4255-b849-fea5c74958f1"
      },
      "execution_count": 4,
      "outputs": [
        {
          "output_type": "stream",
          "name": "stdout",
          "text": [
            "1\n",
            "1\n",
            "1\n",
            "all r equal var: 3\n"
          ]
        }
      ]
    },
    {
      "cell_type": "markdown",
      "source": [
        "Question2\n",
        "Write a function that converts a dictionary into a list of keys-values tuples.\n",
        "\n",
        "Examples\n",
        "\n",
        "dict_to_list({\n",
        "  \"D\": 1,\n",
        "  \"B\": 2,\n",
        "  \"C\": 3\n",
        "}) ➞ [(\"B\", 2), (\"C\", 3), (\"D\", 1)]\n",
        "\n",
        "dict_to_list({\n",
        "  \"likes\": 2,\n",
        "  \"dislikes\": 3,\n",
        "  \"followers\": 10\n",
        "}) ➞ [(\"dislikes\", 3), (\"followers\", 10), (\"likes\", 2)]\n",
        "\n",
        "Notes\n",
        "\n",
        "Return the elements in the list in alphabetical order."
      ],
      "metadata": {
        "id": "ZBxYhNOEP4oB"
      }
    },
    {
      "cell_type": "code",
      "source": [
        "def dic_to_list_of_tuple(d):\n",
        "  print(list(d.items()))\n",
        "\n",
        "d1 = { 'a': 1, 'b': 2, 'c': 3 }\n",
        "dic_to_list_of_tuple(d1)"
      ],
      "metadata": {
        "colab": {
          "base_uri": "https://localhost:8080/"
        },
        "id": "JdDut_yKSBi9",
        "outputId": "547c08f7-98eb-4034-b8d1-27edade14844"
      },
      "execution_count": 5,
      "outputs": [
        {
          "output_type": "stream",
          "name": "stdout",
          "text": [
            "[('a', 1), ('b', 2), ('c', 3)]\n"
          ]
        }
      ]
    },
    {
      "cell_type": "code",
      "source": [
        "# another way\n",
        "\n",
        "def dic_to_list_of_tuple(d):\n",
        "  keys = d.keys()\n",
        "  values = d.values()\n",
        "  list_of_tuples = list(zip(keys, values))\n",
        "  print(list_of_tuples)\n",
        "\n",
        "sample_dict = {'john': 30, 'nik': 32, 'datagy': 40}\n",
        "dic_to_list_of_tuple(sample_dict)"
      ],
      "metadata": {
        "colab": {
          "base_uri": "https://localhost:8080/"
        },
        "id": "yySraki0S_cW",
        "outputId": "5e97b613-6147-4694-d382-78f4cd926790"
      },
      "execution_count": 9,
      "outputs": [
        {
          "output_type": "stream",
          "name": "stdout",
          "text": [
            "[('john', 30), ('nik', 32), ('datagy', 40)]\n"
          ]
        }
      ]
    },
    {
      "cell_type": "markdown",
      "source": [
        "Question3\n",
        "\n",
        "Write a function that creates a dictionary with each (key, value) pair being the (lower case, upper case) versions of a letter, respectively.\n",
        "\n",
        "Examples\n",
        "\n",
        "mapping([\"p\", \"s\"]) ➞ { \"p\": \"P\", \"s\": \"S\" }\n",
        "\n",
        "mapping([\"a\", \"b\", \"c\"]) ➞ { \"a\": \"A\", \"b\": \"B\", \"c\": \"C\" }\n",
        "\n",
        "mapping([\"a\", \"v\", \"y\", \"z\"]) ➞ { \"a\": \"A\", \"v\": \"V\", \"y\": \"Y\", \"z\": \"Z\" }\n",
        "\n",
        "Notes\n",
        "\n",
        "All of the letters in the input list will always be lowercase.\n",
        "\n"
      ],
      "metadata": {
        "id": "KvJAd_f1P7lB"
      }
    },
    {
      "cell_type": "code",
      "source": [
        "def mapping(l):\n",
        "  dict1 = {i : i.upper() for i in l}\n",
        "  return dict1\n",
        "\n",
        "l1 = [\"p\", \"s\"]\n",
        "mapping(l1) "
      ],
      "metadata": {
        "colab": {
          "base_uri": "https://localhost:8080/"
        },
        "id": "7ZYqlCqwS-lh",
        "outputId": "cfd180f7-f303-4216-86b7-0603fd677c3f"
      },
      "execution_count": 13,
      "outputs": [
        {
          "output_type": "execute_result",
          "data": {
            "text/plain": [
              "{'p': 'P', 's': 'S'}"
            ]
          },
          "metadata": {},
          "execution_count": 13
        }
      ]
    },
    {
      "cell_type": "code",
      "source": [
        "l2 = [\"a\", \"b\", \"c\"]\n",
        "mapping(l2)  "
      ],
      "metadata": {
        "colab": {
          "base_uri": "https://localhost:8080/"
        },
        "id": "Ls9H7cd8dHyl",
        "outputId": "a8ceb72d-4d57-4ec9-cb74-375cccfc31bd"
      },
      "execution_count": 14,
      "outputs": [
        {
          "output_type": "execute_result",
          "data": {
            "text/plain": [
              "{'a': 'A', 'b': 'B', 'c': 'C'}"
            ]
          },
          "metadata": {},
          "execution_count": 14
        }
      ]
    },
    {
      "cell_type": "code",
      "source": [
        "l3 = [\"a\", \"v\", \"y\", \"z\"]\n",
        "mapping(l3)"
      ],
      "metadata": {
        "colab": {
          "base_uri": "https://localhost:8080/"
        },
        "id": "U9JDNhjNdKB9",
        "outputId": "24a0a4dd-ccae-4fe5-dd09-2411b3c19941"
      },
      "execution_count": 15,
      "outputs": [
        {
          "output_type": "execute_result",
          "data": {
            "text/plain": [
              "{'a': 'A', 'v': 'V', 'y': 'Y', 'z': 'Z'}"
            ]
          },
          "metadata": {},
          "execution_count": 15
        }
      ]
    },
    {
      "cell_type": "markdown",
      "source": [
        "Question4\n",
        "\n",
        "Write a function, that replaces all vowels in a string with a specified vowel.\n",
        "\n",
        "Examples\n",
        "\n",
        "vow_replace(\"apples and bananas\", \"u\") ➞ \"upplus und bununus\"\n",
        "\n",
        "vow_replace(\"cheese casserole\", \"o\") ➞ \"chooso cossorolo\"\n",
        "\n",
        "vow_replace(\"stuffed jalapeno poppers\", \"e\") ➞ \"steffed jelepene peppers\"\n",
        "\n",
        "Notes\n",
        "\n",
        "All words will be lowercase. Y is not considered a vowel.\n",
        "\n",
        "\n"
      ],
      "metadata": {
        "id": "3c1VMwe9P9rn"
      }
    },
    {
      "cell_type": "code",
      "source": [
        "def rep_vowel(s):\n",
        "    newstr = s  # copying s into newstr\n",
        "    \n",
        "    for x in s.lower():\n",
        "        if x=='a':\n",
        "            newstr = newstr.replace(x,\"u\")\n",
        "    return newstr\n",
        "\n",
        "s1 = \"apples and bananas\"\n",
        "rep_vowel(s1)"
      ],
      "metadata": {
        "colab": {
          "base_uri": "https://localhost:8080/",
          "height": 35
        },
        "id": "qYxgpgO9bTLx",
        "outputId": "b20074ca-982e-4739-9e0b-e45ee1835d0e"
      },
      "execution_count": 16,
      "outputs": [
        {
          "output_type": "execute_result",
          "data": {
            "application/vnd.google.colaboratory.intrinsic+json": {
              "type": "string"
            },
            "text/plain": [
              "'upples und bununus'"
            ]
          },
          "metadata": {},
          "execution_count": 16
        }
      ]
    },
    {
      "cell_type": "code",
      "source": [
        "def rep_vowel(s):\n",
        "    newstr = s  # copying s into newstr\n",
        "    \n",
        "    for x in s.lower():\n",
        "        if x=='e':\n",
        "            newstr = newstr.replace(x,\"o\")\n",
        "    return newstr\n",
        "s2 = \"cheese casserole\"\n",
        "rep_vowel(s2)"
      ],
      "metadata": {
        "colab": {
          "base_uri": "https://localhost:8080/",
          "height": 35
        },
        "id": "WqRjfnzLdWZy",
        "outputId": "292ba923-3fc8-40ee-b912-d6a2541e3e5d"
      },
      "execution_count": 20,
      "outputs": [
        {
          "output_type": "execute_result",
          "data": {
            "application/vnd.google.colaboratory.intrinsic+json": {
              "type": "string"
            },
            "text/plain": [
              "'chooso cassorolo'"
            ]
          },
          "metadata": {},
          "execution_count": 20
        }
      ]
    },
    {
      "cell_type": "code",
      "source": [
        "def rep_vowel(s):\n",
        "    newstr = s  # copying s into newstr\n",
        "    \n",
        "    for x in s.lower():\n",
        "        if x=='u' or x == 'a' or x == 'o':\n",
        "            newstr = newstr.replace(x,\"e\")\n",
        "    return newstr\n",
        "\n",
        "s3 = \"stuffed jalapeno poppers\"\n",
        "rep_vowel(s3)\n"
      ],
      "metadata": {
        "colab": {
          "base_uri": "https://localhost:8080/",
          "height": 35
        },
        "id": "18utPVsvebre",
        "outputId": "b4e2e91f-1347-499b-b577-b479a0252ca5"
      },
      "execution_count": 21,
      "outputs": [
        {
          "output_type": "execute_result",
          "data": {
            "application/vnd.google.colaboratory.intrinsic+json": {
              "type": "string"
            },
            "text/plain": [
              "'steffed jelepene peppers'"
            ]
          },
          "metadata": {},
          "execution_count": 21
        }
      ]
    },
    {
      "cell_type": "markdown",
      "source": [
        "Question5\n",
        "\n",
        "Create a function that takes a string as input and capitalizes a letter if its ASCII code is even and returns its lower case version if its ASCII code is odd.\n",
        "\n",
        "Examples\n",
        "\n",
        "ascii_capitalize(\"to be or not to be!\") ➞ \"To Be oR NoT To Be!\"\n",
        "\n",
        "ascii_capitalize(\"THE LITTLE MERMAID\") ➞ \"THe LiTTLe meRmaiD\"\n",
        "\n",
        "ascii_capitalize(\"Oh what a beautiful morning.\") ➞ \"oH wHaT a BeauTiFuL moRNiNg.\"\n"
      ],
      "metadata": {
        "id": "wBSQd4lZQAoQ"
      }
    },
    {
      "cell_type": "code",
      "execution_count": 37,
      "metadata": {
        "id": "eSOKa801B1N_",
        "colab": {
          "base_uri": "https://localhost:8080/",
          "height": 35
        },
        "outputId": "f7cd0c26-0766-4191-a27d-193bcbca4f7a"
      },
      "outputs": [
        {
          "output_type": "execute_result",
          "data": {
            "application/vnd.google.colaboratory.intrinsic+json": {
              "type": "string"
            },
            "text/plain": [
              "'To Be oR NoT To Be!'"
            ]
          },
          "metadata": {},
          "execution_count": 37
        }
      ],
      "source": [
        "def ascii_code(s):\n",
        "  newstr = \"\"\n",
        "\n",
        "  for i in range(len(s)):\n",
        "    if ord(s[i]) % 2 == 0:\n",
        "      newstr+=s[i].upper()\n",
        "    else:\n",
        "      newstr+=s[i].lower()\n",
        "  return newstr\n",
        "\n",
        "s1 = \"to be or not to be!\"\n",
        "ascii_code(s1)"
      ]
    },
    {
      "cell_type": "code",
      "source": [
        "s2 = \"THE LITTLE MERMAID\"\n",
        "ascii_code(s2)"
      ],
      "metadata": {
        "colab": {
          "base_uri": "https://localhost:8080/",
          "height": 35
        },
        "id": "DKUhmG-ZkqHg",
        "outputId": "140ac075-76e0-4dc0-cdc9-1d2e84d2cb47"
      },
      "execution_count": 40,
      "outputs": [
        {
          "output_type": "execute_result",
          "data": {
            "application/vnd.google.colaboratory.intrinsic+json": {
              "type": "string"
            },
            "text/plain": [
              "'THe LiTTLe meRmaiD'"
            ]
          },
          "metadata": {},
          "execution_count": 40
        }
      ]
    },
    {
      "cell_type": "code",
      "source": [
        "s3 = \"Oh what a beautiful morning.\"\n",
        "ascii_code(s3)"
      ],
      "metadata": {
        "colab": {
          "base_uri": "https://localhost:8080/",
          "height": 35
        },
        "id": "JsQNSl-Ygnq5",
        "outputId": "5bb74b10-15cc-4495-f628-7ce2f0053641"
      },
      "execution_count": 41,
      "outputs": [
        {
          "output_type": "execute_result",
          "data": {
            "application/vnd.google.colaboratory.intrinsic+json": {
              "type": "string"
            },
            "text/plain": [
              "'oH wHaT a BeauTiFuL moRNiNg.'"
            ]
          },
          "metadata": {},
          "execution_count": 41
        }
      ]
    }
  ]
}