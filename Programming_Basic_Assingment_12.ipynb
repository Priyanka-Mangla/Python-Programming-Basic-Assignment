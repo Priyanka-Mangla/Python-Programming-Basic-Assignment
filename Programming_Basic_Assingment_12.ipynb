{
  "nbformat": 4,
  "nbformat_minor": 0,
  "metadata": {
    "colab": {
      "name": "Programming_Basic_Assingment 12.ipynb",
      "provenance": []
    },
    "kernelspec": {
      "name": "python3",
      "display_name": "Python 3"
    },
    "language_info": {
      "name": "python"
    }
  },
  "cells": [
    {
      "cell_type": "markdown",
      "source": [
        "**Programming_Basic_Assingment 12**"
      ],
      "metadata": {
        "id": "BIhCKNyTgI8z"
      }
    },
    {
      "cell_type": "markdown",
      "source": [
        "1. Write a Python program to Extract Unique values dictionary values?\n",
        "\n"
      ],
      "metadata": {
        "id": "0E0NTn20gcyb"
      }
    },
    {
      "cell_type": "code",
      "source": [
        "lis = [{\"abc\":\"movies\"}, {\"abc\": \"sports\"}, {\"abc\": \"music\"}, {\"xyz\": \"music\"}, {\"pqr\":\"music\"}, {\"pqr\":\"movies\"},{\"pqr\":\"sports\"}, {\"pqr\":\"news\"}, {\"pqr\":\"sports\"}]\n",
        "s = set( val for dic in lis for val in dic.values())\n",
        "s "
      ],
      "metadata": {
        "id": "dtVSDEiUYwns",
        "colab": {
          "base_uri": "https://localhost:8080/"
        },
        "outputId": "54dba13c-d99d-4b8b-a95b-7cd99131f8f2"
      },
      "execution_count": null,
      "outputs": [
        {
          "output_type": "execute_result",
          "data": {
            "text/plain": [
              "{'movies', 'music', 'news', 'sports'}"
            ]
          },
          "metadata": {},
          "execution_count": 1
        }
      ]
    },
    {
      "cell_type": "markdown",
      "source": [
        "2. Write a Python program to find the sum of all items in a dictionary?\n"
      ],
      "metadata": {
        "id": "Dnd1nE6_gl6G"
      }
    },
    {
      "cell_type": "code",
      "source": [
        "def returnSum(myDict):\n",
        "     \n",
        "    list = []\n",
        "    for i in myDict:\n",
        "        list.append(myDict[i])\n",
        "    final = sum(list)\n",
        "     \n",
        "    return final\n",
        " \n",
        "dict = {'a': 100, 'b':200, 'c':300}\n",
        "print(\"Sum :\", returnSum(dict))"
      ],
      "metadata": {
        "colab": {
          "base_uri": "https://localhost:8080/"
        },
        "id": "RVGjYPuZjTJB",
        "outputId": "37203191-61d4-4b5a-dda8-a70b7496a56f"
      },
      "execution_count": null,
      "outputs": [
        {
          "output_type": "stream",
          "name": "stdout",
          "text": [
            "Sum : 600\n"
          ]
        }
      ]
    },
    {
      "cell_type": "markdown",
      "source": [
        "3. Write a Python program to Merging two Dictionaries?\n"
      ],
      "metadata": {
        "id": "gTAo_QPIgmXW"
      }
    },
    {
      "cell_type": "code",
      "source": [
        "def merge1(dic1, dic2):\n",
        "  return(dic2.update(dic1))\n",
        "  \n",
        "d1 = {'a':1, 'b':5}\n",
        "d2 = {'c':8, 'd':6}\n",
        "\n",
        "merge1(d1, d2)\n",
        "print(\"d2:\", d2)"
      ],
      "metadata": {
        "colab": {
          "base_uri": "https://localhost:8080/"
        },
        "id": "PrX1WwhllxN2",
        "outputId": "26102e3b-6eb5-447b-b300-803601092043"
      },
      "execution_count": null,
      "outputs": [
        {
          "output_type": "stream",
          "name": "stdout",
          "text": [
            "d2: {'c': 8, 'd': 6, 'a': 1, 'b': 5}\n"
          ]
        }
      ]
    },
    {
      "cell_type": "markdown",
      "source": [
        "4. Write a Python program to convert key-values list to flat dictionary?\n"
      ],
      "metadata": {
        "id": "bD8GUU1ggmiq"
      }
    },
    {
      "cell_type": "code",
      "source": [
        "dic= { \"day\": [1, 2, 3], \"name\": ['Mon', 'Tues', 'Wed' ] }\n",
        "print(\"Original dictionary: \",dic)\n",
        "\n",
        "# convert to flat dictionary\n",
        "\n",
        "f_dic= dict(zip(dic[\"day\"], dic[\"name\"]))\n",
        "print(\"FLATTENED DICTIONARY: \", f_dic)"
      ],
      "metadata": {
        "colab": {
          "base_uri": "https://localhost:8080/"
        },
        "id": "mhl1qIECqaep",
        "outputId": "b31e0b8b-9c30-4f1e-b73f-52e2a08f6f22"
      },
      "execution_count": 4,
      "outputs": [
        {
          "output_type": "stream",
          "name": "stdout",
          "text": [
            "Original dictionary:  {'day': [1, 2, 3], 'name': ['Mon', 'Tues', 'Wed']}\n",
            "FLATTENED DICTIONARY:  {1: 'Mon', 2: 'Tues', 3: 'Wed'}\n"
          ]
        }
      ]
    },
    {
      "cell_type": "markdown",
      "source": [
        "5. Write a Python program to insertion at the beginning in OrderedDict?\n"
      ],
      "metadata": {
        "id": "tlmThuxVgmuB"
      }
    },
    {
      "cell_type": "code",
      "source": [
        "import collections as col\n",
        "dic1 = col.OrderedDict([('A', '100'), ('B', '200'), ('C', '300')])\n",
        "\n",
        "dic1.update({\"D\": '400'})\n",
        "print(dic1)\n",
        "\n",
        "dic1.move_to_end(\"D\", last=False)\n",
        "  \n",
        "print (\"Resultant Dictionary :\")\n",
        "print(dic1)"
      ],
      "metadata": {
        "colab": {
          "base_uri": "https://localhost:8080/"
        },
        "id": "cs_bIotRyeId",
        "outputId": "ec7355d6-350a-4052-e474-e52785f3a16a"
      },
      "execution_count": 7,
      "outputs": [
        {
          "output_type": "stream",
          "name": "stdout",
          "text": [
            "OrderedDict([('A', '100'), ('B', '200'), ('C', '300'), ('D', '400')])\n",
            "Resultant Dictionary :\n",
            "OrderedDict([('D', '400'), ('A', '100'), ('B', '200'), ('C', '300')])\n"
          ]
        }
      ]
    },
    {
      "cell_type": "markdown",
      "source": [
        "6. Write a Python program to check order of character in string using OrderedDict()?\n"
      ],
      "metadata": {
        "id": "6gFD-kjEgm5u"
      }
    },
    {
      "cell_type": "code",
      "source": [
        "from typing import Pattern\n",
        "import collections as Col\n",
        "\n",
        "def check_order(my_inp, pattern):\n",
        "  my_dict = col.OrderedDict.fromkeys(my_inp)\n",
        "  pattern_len = 0\n",
        "  for key,value in my_dict.items():\n",
        "    if key == pattern[pattern_len]:\n",
        "      pattern_len = pattern_len+1\n",
        "\n",
        "    if pattern_len==len(pattern):\n",
        "      return 'The order of pattern is correct'\n",
        "  \n",
        "  return 'The order of pattern is incorrect'\n",
        "\n",
        "mystring = \"hello friends\"\n",
        "Pattern_order= \"ri\"\n",
        "\n",
        "check_order(mystring, Pattern_order)"
      ],
      "metadata": {
        "colab": {
          "base_uri": "https://localhost:8080/",
          "height": 35
        },
        "id": "Dvl4t4jG4G43",
        "outputId": "56cd1f48-18f8-4c6b-cdd1-76bf78febd24"
      },
      "execution_count": 15,
      "outputs": [
        {
          "output_type": "execute_result",
          "data": {
            "application/vnd.google.colaboratory.intrinsic+json": {
              "type": "string"
            },
            "text/plain": [
              "'The order of pattern is correct'"
            ]
          },
          "metadata": {},
          "execution_count": 15
        }
      ]
    },
    {
      "cell_type": "markdown",
      "source": [
        "7. Write a Python program to sort Python Dictionaries by Key or Value?"
      ],
      "metadata": {
        "id": "5xo0hcqHgnI2"
      }
    },
    {
      "cell_type": "code",
      "execution_count": 20,
      "metadata": {
        "id": "HIlQ5mjIdcsX",
        "colab": {
          "base_uri": "https://localhost:8080/"
        },
        "outputId": "f0a71e04-1b3b-4959-cb36-5736d437a552"
      },
      "outputs": [
        {
          "output_type": "stream",
          "name": "stdout",
          "text": [
            "Sorted keys [1, 2, 6, 7, 8, 9]\n",
            "Sorted Values [(1, 'Potter'), (2, 'John'), (6, 'George'), (7, 'Robert'), (8, 'Gayle'), (9, 'Micheal')]\n"
          ]
        }
      ],
      "source": [
        "dict = {6:'George' ,2:'John' ,1:'Potter' ,9:'Micheal' ,7:'Robert' ,8:'Gayle' }  \n",
        " \n",
        "b = sorted(dict.keys())\n",
        "print(\"Sorted keys\",b)  \n",
        "  \n",
        "c = sorted(dict.items())\n",
        "print(\"Sorted Values\",c)  "
      ]
    },
    {
      "cell_type": "code",
      "source": [
        "#another way\n",
        "day = { 'one' : 'Monday' , 'two' : 'Tuesday' , 'three' : 'Wednesday' , 'four' : 'Thursday' , 'five': 'Friday' , 'six' : 'Saturday' , 'seven': 'Sunday'}\n",
        "print(day)\n",
        "\n",
        "number = { 'one' : 1 , 'two' : 2 , 'three' : 3 , 'four' : 4 , 'five' : 5 , 'six' : 6 , 'seven' : 7}\n",
        "print(sorted(day , key=number.__getitem__))\n",
        "\n",
        "print([day[i] for i in sorted(day , key=number.__getitem__)])"
      ],
      "metadata": {
        "colab": {
          "base_uri": "https://localhost:8080/"
        },
        "id": "e7wrKao3__TW",
        "outputId": "d3d8be83-0ea1-4c2e-fdb7-15f756cd040e"
      },
      "execution_count": 21,
      "outputs": [
        {
          "output_type": "stream",
          "name": "stdout",
          "text": [
            "{'one': 'Monday', 'two': 'Tuesday', 'three': 'Wednesday', 'four': 'Thursday', 'five': 'Friday', 'six': 'Saturday', 'seven': 'Sunday'}\n",
            "['one', 'two', 'three', 'four', 'five', 'six', 'seven']\n",
            "['Monday', 'Tuesday', 'Wednesday', 'Thursday', 'Friday', 'Saturday', 'Sunday']\n"
          ]
        }
      ]
    },
    {
      "cell_type": "code",
      "source": [
        ""
      ],
      "metadata": {
        "id": "Vi9AW6GZATMI"
      },
      "execution_count": null,
      "outputs": []
    }
  ]
}